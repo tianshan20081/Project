{
 "cells": [
  {
   "cell_type": "code",
   "execution_count": 11,
   "metadata": {
    "collapsed": true
   },
   "outputs": [],
   "source": [
    "# pip3 install qiniu"
   ]
  },
  {
   "cell_type": "code",
   "execution_count": 1,
   "metadata": {
    "collapsed": true
   },
   "outputs": [],
   "source": [
    "import qiniu\n",
    "from qiniu import BucketManager\n",
    "import json\n",
    "import requests\n",
    "import os"
   ]
  },
  {
   "cell_type": "code",
   "execution_count": 2,
   "metadata": {
    "collapsed": false
   },
   "outputs": [],
   "source": [
    "access_key = os.popen('echo $qnpublic').read().strip()\n",
    "secret_key = os.popen('echo $qnprivate').read().strip()\n",
    "bucket_name = 'image'\n",
    "bucket_url = os.popen('echo $qnimgurl').read().strip()"
   ]
  },
  {
   "cell_type": "code",
   "execution_count": 3,
   "metadata": {
    "collapsed": true
   },
   "outputs": [],
   "source": [
    "def qa():\n",
    "    return qiniu.Auth(access_key,secret_key)"
   ]
  },
  {
   "cell_type": "code",
   "execution_count": 4,
   "metadata": {
    "collapsed": false
   },
   "outputs": [],
   "source": [
    "def token():\n",
    "    q = qa()\n",
    "    return q.upload_token(bucket=bucket_name)"
   ]
  },
  {
   "cell_type": "code",
   "execution_count": 5,
   "metadata": {
    "collapsed": false
   },
   "outputs": [],
   "source": [
    "def private_url(url):\n",
    "    q = qa()\n",
    "    return q.private_download_url(url,7200)"
   ]
  },
  {
   "cell_type": "code",
   "execution_count": 6,
   "metadata": {
    "collapsed": false
   },
   "outputs": [
    {
     "name": "stdout",
     "output_type": "stream",
     "text": [
      "yXKy9jtDxW-WbSYdgeFiJmGFbLTeMqhgTOEUA7uc:ZQW2PaJ4cP5MlTnYhLURCbnJDzA=:eyJzY29wZSI6ImltYWdlIiwiZGVhZGxpbmUiOjE0NzEyNjE1MzR9\n"
     ]
    }
   ],
   "source": [
    "token = token()\n",
    "print(token)"
   ]
  },
  {
   "cell_type": "code",
   "execution_count": null,
   "metadata": {
    "collapsed": true
   },
   "outputs": [],
   "source": []
  },
  {
   "cell_type": "code",
   "execution_count": 7,
   "metadata": {
    "collapsed": true
   },
   "outputs": [],
   "source": [
    "def file_list():\n",
    "    bm = BucketManager(auth=qa())\n",
    "    bm_rs = bm.list(bucket_name, None, None, 3, None)\n",
    "    if bm_rs and bm_rs[0] and bm_rs[0].get('items') :\n",
    "        items = bm_rs[0].get('items')\n",
    "        print(items)\n",
    "        return items\n",
    "\n",
    "    return None"
   ]
  },
  {
   "cell_type": "code",
   "execution_count": 8,
   "metadata": {
    "collapsed": false
   },
   "outputs": [],
   "source": [
    "def img_url(items):\n",
    "    img_url = []\n",
    "    for it in items:\n",
    "        img_url.append(bucket_url+it.get('key'))\n",
    "    return img_url"
   ]
  },
  {
   "cell_type": "code",
   "execution_count": 9,
   "metadata": {
    "collapsed": false
   },
   "outputs": [
    {
     "name": "stdout",
     "output_type": "stream",
     "text": [
      "[{'mimeType': 'image/jpeg', 'putTime': 14510979558388771, 'hash': 'Fmdq3jSqzCYrz8l4hVy5KHNDR6Ji', 'key': '0005e7e3-893a-4b67-9e2f-5f1dd7e9c5bb.jpg', 'fsize': 517791}, {'mimeType': 'image/jpeg', 'putTime': 14511222536092689, 'hash': 'FobVuAgxGMyv-xNcAkBT7sAZtsNp', 'key': '00082d4d-ae45-462b-82a5-5d3796dafaff.jpg', 'fsize': 63009}, {'mimeType': 'image/jpeg', 'putTime': 14511222973465557, 'hash': 'FgMzMHzwQUZbT9aNWCp32MdBHnPI', 'key': '001537e8-b1bc-4e27-8e43-981113d26d75.jpg', 'fsize': 30281}]\n",
      "[{'mimeType': 'image/jpeg', 'putTime': 14510979558388771, 'hash': 'Fmdq3jSqzCYrz8l4hVy5KHNDR6Ji', 'key': '0005e7e3-893a-4b67-9e2f-5f1dd7e9c5bb.jpg', 'fsize': 517791}, {'mimeType': 'image/jpeg', 'putTime': 14511222536092689, 'hash': 'FobVuAgxGMyv-xNcAkBT7sAZtsNp', 'key': '00082d4d-ae45-462b-82a5-5d3796dafaff.jpg', 'fsize': 63009}, {'mimeType': 'image/jpeg', 'putTime': 14511222973465557, 'hash': 'FgMzMHzwQUZbT9aNWCp32MdBHnPI', 'key': '001537e8-b1bc-4e27-8e43-981113d26d75.jpg', 'fsize': 30281}]\n"
     ]
    }
   ],
   "source": [
    "items = file_list()\n",
    "print(items)"
   ]
  },
  {
   "cell_type": "code",
   "execution_count": 10,
   "metadata": {
    "collapsed": false
   },
   "outputs": [
    {
     "name": "stdout",
     "output_type": "stream",
     "text": [
      "['http://7xpbap.com1.z0.glb.clouddn.com/0005e7e3-893a-4b67-9e2f-5f1dd7e9c5bb.jpg', 'http://7xpbap.com1.z0.glb.clouddn.com/00082d4d-ae45-462b-82a5-5d3796dafaff.jpg', 'http://7xpbap.com1.z0.glb.clouddn.com/001537e8-b1bc-4e27-8e43-981113d26d75.jpg']\n"
     ]
    }
   ],
   "source": [
    "imgs = img_url(items)\n",
    "print(imgs)"
   ]
  },
  {
   "cell_type": "code",
   "execution_count": 11,
   "metadata": {
    "collapsed": false
   },
   "outputs": [
    {
     "name": "stdout",
     "output_type": "stream",
     "text": [
      "http://7xpbap.com1.z0.glb.clouddn.com/0005e7e3-893a-4b67-9e2f-5f1dd7e9c5bb.jpg?e=1471265139&token=yXKy9jtDxW-WbSYdgeFiJmGFbLTeMqhgTOEUA7uc:h-FFtUDnMqxVa6KZvx0o_4xaGqc=\n",
      "http://7xpbap.com1.z0.glb.clouddn.com/00082d4d-ae45-462b-82a5-5d3796dafaff.jpg?e=1471265139&token=yXKy9jtDxW-WbSYdgeFiJmGFbLTeMqhgTOEUA7uc:Rv06A4URATWw4mRUfghQMWrQPxc=\n"
     ]
    }
   ],
   "source": [
    "for i in imgs[:2] :\n",
    "    print(private_url(i))"
   ]
  },
  {
   "cell_type": "code",
   "execution_count": 12,
   "metadata": {
    "collapsed": true
   },
   "outputs": [],
   "source": [
    "'''\n",
    "https://portal.qiniu.com/create/third_party_ufop/facecrop2/quickstart\n",
    "'''\n",
    "def facecrop(url):\n",
    "    return url + '?facecrop2/300x300'\n",
    "    "
   ]
  },
  {
   "cell_type": "code",
   "execution_count": 13,
   "metadata": {
    "collapsed": false
   },
   "outputs": [
    {
     "name": "stdout",
     "output_type": "stream",
     "text": [
      "http://7xpbap.com1.z0.glb.clouddn.com/0005e7e3-893a-4b67-9e2f-5f1dd7e9c5bb.jpg?facecrop2/300x300\n",
      "http://7xpbap.com1.z0.glb.clouddn.com/00082d4d-ae45-462b-82a5-5d3796dafaff.jpg?facecrop2/300x300\n",
      "http://7xpbap.com1.z0.glb.clouddn.com/001537e8-b1bc-4e27-8e43-981113d26d75.jpg?facecrop2/300x300\n"
     ]
    }
   ],
   "source": [
    "for i in imgs :\n",
    "    print(facecrop(i))"
   ]
  },
  {
   "cell_type": "code",
   "execution_count": 14,
   "metadata": {
    "collapsed": false
   },
   "outputs": [],
   "source": [
    "'''\n",
    "https://portal.qiniu.com/create/third_party_ufop/tusdk-face/quickstart\n",
    "ret ：返回码\n",
    "message ：返回码说明\n",
    "data ：true 为有人脸，false 为无人脸\n",
    "ttp ：服务器时间戳\n",
    "'''\n",
    "def tusdk_face_check(url):\n",
    "    url = url + '?tusdk-face/detection'\n",
    "    r = requests.get(url)\n",
    "    print(r.status_code)\n",
    "    if r.status_code == 200 :\n",
    "        print(r.json())\n",
    "        js = r.json()\n",
    "        return js['data']"
   ]
  },
  {
   "cell_type": "code",
   "execution_count": 15,
   "metadata": {
    "collapsed": true
   },
   "outputs": [],
   "source": [
    "'''\n",
    "响应内容\n",
    "\n",
    "ret ：返回码\n",
    "message ：返回码说明\n",
    "data ：count 为人脸数，items 为人脸特征点数据\n",
    "ttp ：服务器时间戳\n",
    "'''\n",
    "def tusdk_face_landmark(url):\n",
    "    if tusdk_face_check(url):\n",
    "        url = url + '?tusdk-face/landmark'\n",
    "        r = requests.get(url)\n",
    "        print(r.status_code)\n",
    "        if r.status_code == 200 and r.json()['ret'] == 200:\n",
    "            print(r.json())\n",
    "#             js = r.json()\n",
    "#             return js['data']\n",
    "        "
   ]
  },
  {
   "cell_type": "code",
   "execution_count": 16,
   "metadata": {
    "collapsed": false
   },
   "outputs": [
    {
     "name": "stdout",
     "output_type": "stream",
     "text": [
      "200\n",
      "{'data': False, 'ret': -601, 'message': 'No face is detected', 'ttp': 1471070551}\n",
      "None\n",
      "200\n",
      "{'data': True, 'ret': 200, 'message': 'Success', 'ttp': 1471070571}\n",
      "200\n",
      "{'data': {'items': [{'faceId': '401d722f71a45d253f5eece335e92cab', 'marks': {'right_brow_upper_middle': {'y': 0.271885, 'x': 0.342613}, 'nose_contour_right_corner': {'y': 0.354143, 'x': 0.324615}, 'mouth_lower_outer_contour3': {'y': 0.391239, 'x': 0.317733}, 'nose_top': {'y': 0.301493, 'x': 0.315574}, 'mouth_upper_outer_contour1': {'y': 0.368833, 'x': 0.307938}, 'contour_right4': {'y': 0.337306, 'x': 0.37417}, 'contour_right5': {'y': 0.305368, 'x': 0.376082}, 'mouth_lower_inner_contour2': {'y': 0.380764, 'x': 0.317347}, 'right_brow_lower_middle': {'y': 0.276529, 'x': 0.342885}, 'contour_left4': {'y': 0.392067, 'x': 0.297666}, 'nose_contour_left_corner': {'y': 0.353962, 'x': 0.306933}, 'right_eye_bottom_left': {'y': 0.304704, 'x': 0.336472}, 'left_brow_upper_middle': {'y': 0.272999, 'x': 0.295638}, 'left_eye_bottom_middle': {'y': 0.303508, 'x': 0.296566}, 'left_eye_right_corner': {'y': 0.302215, 'x': 0.305338}, 'right_brow_upper_left': {'y': 0.274127, 'x': 0.333137}, 'mouth_upper_outer_contour3': {'y': 0.368258, 'x': 0.316709}, 'mouth_upper_inner_contour3': {'y': 0.372569, 'x': 0.321554}, 'right_eye_right_corner': {'y': 0.300598, 'x': 0.350324}, 'left_eye_left_corner': {'y': 0.298844, 'x': 0.288991}, 'mouth_upper_outer_contour5': {'y': 0.369151, 'x': 0.32971}, 'left_eye_top_left': {'y': 0.293522, 'x': 0.292398}, 'mouth_lower_inner_contour1': {'y': 0.380366, 'x': 0.322227}, 'left_brow_right_corner': {'y': 0.281982, 'x': 0.307926}, 'left_brow_left_corner': {'y': 0.280611, 'x': 0.28515}, 'nose_contour_left': {'y': 0.356972, 'x': 0.31044}, 'left_eye_bottom_left': {'y': 0.302157, 'x': 0.292211}, 'mouth_left_inner_corner': {'y': 0.373793, 'x': 0.306593}, 'right_brow_left_corner': {'y': 0.281673, 'x': 0.325526}, 'right_eye_top_middle': {'y': 0.29305, 'x': 0.341268}, 'nose_upper_middle': {'y': 0.316646, 'x': 0.31459}, 'left_eye_top_right': {'y': 0.295336, 'x': 0.301641}, 'nose_contour_middle': {'y': 0.35913, 'x': 0.314487}, 'contour_right2': {'y': 0.39903, 'x': 0.350868}, 'mouth_lower_outer_contour1': {'y': 0.385423, 'x': 0.330773}, 'mouth_lower_inner_contour3': {'y': 0.379721, 'x': 0.313325}, 'mouth_upper_outer_contour2': {'y': 0.366993, 'x': 0.312751}, 'mouth_lower_outer_contour4': {'y': 0.389894, 'x': 0.313257}, 'mouth_right_inner_corner': {'y': 0.373295, 'x': 0.336217}, 'right_eye_top_right': {'y': 0.294717, 'x': 0.346274}, 'nose_lower_middle': {'y': 0.331708, 'x': 0.313483}, 'nose_bottom': {'y': 0.346463, 'x': 0.312452}, 'left_brow_lower_middle': {'y': 0.277315, 'x': 0.295292}, 'left_eye_bottom_right': {'y': 0.303297, 'x': 0.301251}, 'left_brow_upper_left': {'y': 0.274345, 'x': 0.289371}, 'mouth_upper_inner_contour2': {'y': 0.373042, 'x': 0.316875}, 'contour_right3': {'y': 0.367334, 'x': 0.367407}, 'mouth_center': {'y': 0.378708, 'x': 0.317309}, 'mouth_upper_outer_contour4': {'y': 0.367033, 'x': 0.321265}, 'mouth_left_outer_corner': {'y': 0.373044, 'x': 0.304102}, 'mouth_right_outer_corner': {'y': 0.372851, 'x': 0.338769}, 'mouth_lower_outer_contour2': {'y': 0.390722, 'x': 0.322889}, 'right_eye_bottom_right': {'y': 0.303622, 'x': 0.346438}, 'right_brow_upper_right': {'y': 0.27506, 'x': 0.351891}, 'contour_left1': {'y': 0.307765, 'x': 0.282706}, 'contour_left3': {'y': 0.360738, 'x': 0.286672}, 'left_brow_upper_right': {'y': 0.275168, 'x': 0.302356}, 'mouth_lower_outer_contour5': {'y': 0.38411, 'x': 0.308576}, 'right_brow_right_corner': {'y': 0.283459, 'x': 0.35927}, 'right_eye_top_left': {'y': 0.295803, 'x': 0.336063}, 'nose_contour_right': {'y': 0.356626, 'x': 0.319383}, 'left_eye_top_middle': {'y': 0.292437, 'x': 0.296876}, 'right_eye_left_corner': {'y': 0.303309, 'x': 0.332011}, 'contour_left5': {'y': 0.417653, 'x': 0.311401}, 'contour_left2': {'y': 0.334439, 'x': 0.282436}, 'mouth_upper_inner_contour1': {'y': 0.372442, 'x': 0.312949}, 'contour_right1': {'y': 0.42022, 'x': 0.329728}, 'right_eye_bottom_middle': {'y': 0.305025, 'x': 0.341615}, 'contour_chin': {'y': 0.421907, 'x': 0.319855}}}], 'count': 1}, 'ret': 200, 'message': 'Success', 'ttp': 1471070876}\n",
      "None\n"
     ]
    }
   ],
   "source": [
    "for i in imgs[:2] :\n",
    "    print(tusdk_face_landmark(i))"
   ]
  },
  {
   "cell_type": "code",
   "execution_count": null,
   "metadata": {
    "collapsed": false
   },
   "outputs": [],
   "source": []
  },
  {
   "cell_type": "code",
   "execution_count": null,
   "metadata": {
    "collapsed": true
   },
   "outputs": [],
   "source": []
  }
 ],
 "metadata": {
  "kernelspec": {
   "display_name": "Python 3",
   "language": "python",
   "name": "python3"
  },
  "language_info": {
   "codemirror_mode": {
    "name": "ipython",
    "version": 3
   },
   "file_extension": ".py",
   "mimetype": "text/x-python",
   "name": "python",
   "nbconvert_exporter": "python",
   "pygments_lexer": "ipython3",
   "version": "3.5.2"
  }
 },
 "nbformat": 4,
 "nbformat_minor": 0
}
