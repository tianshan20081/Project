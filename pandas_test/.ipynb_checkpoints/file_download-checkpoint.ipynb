{
 "cells": [
  {
   "cell_type": "code",
   "execution_count": 17,
   "metadata": {
    "collapsed": false
   },
   "outputs": [
    {
     "data": {
      "text/plain": [
       "'\\nhttps://raw.githubusercontent.com/oldj/pyheatmap/master/examples/test_data.txt\\n'"
      ]
     },
     "execution_count": 17,
     "metadata": {},
     "output_type": "execute_result"
    }
   ],
   "source": [
    "'''\n",
    "https://raw.githubusercontent.com/oldj/pyheatmap/master/examples/test_data.txt\n",
    "'''"
   ]
  },
  {
   "cell_type": "code",
   "execution_count": 1,
   "metadata": {
    "collapsed": true
   },
   "outputs": [],
   "source": [
    "import requests\n",
    "import pandas as pd\n",
    "import os\n",
    "import shutil\n",
    "url = 'https://raw.githubusercontent.com/oldj/pyheatmap/master/examples/test_data.txt'\n",
    "fn = 'test_data.txt'"
   ]
  },
  {
   "cell_type": "code",
   "execution_count": 19,
   "metadata": {
    "collapsed": false
   },
   "outputs": [],
   "source": [
    "def download_data(url,fh):\n",
    "    r = requests.get(url,stream=True)\n",
    "#     print(r.raw.data)\n",
    "    if r.status_code == 200 :\n",
    "        with open(fh,'wb') as fd:\n",
    "            for chunk in r:#This'll read the data in 128 byte chunks;\n",
    "                fd.write(chunk)\n",
    "    del r\n",
    "download_data(url,fn)\n",
    "# if fn and os.path.getsize(fn) > 0:\n",
    "#     tdata = pd.read_csv(fn)\n"
   ]
  },
  {
   "cell_type": "code",
   "execution_count": 20,
   "metadata": {
    "collapsed": false
   },
   "outputs": [],
   "source": [
    "def download_raw_shutil(url,fn):\n",
    "    r = requests.get(url,stream=True)\n",
    "    if r.ok :\n",
    "        with open(fn,'wb') as fd :\n",
    "            r.raw.decode_content = True\n",
    "            shutil.copyfileobj(r.raw,fd)\n",
    "    \n",
    "download_raw_shutil(url,fn)"
   ]
  },
  {
   "cell_type": "code",
   "execution_count": 21,
   "metadata": {
    "collapsed": true
   },
   "outputs": [],
   "source": [
    "def download_data_1024(url,fh):\n",
    "    r = requests.get(url,stream=True)\n",
    "    if r.status_code == 200 :\n",
    "        with open(fh,'wb') as fd:\n",
    "            for chunk in r.iter_content(1024):\n",
    "                fd.write(chunk)\n",
    "    del r\n",
    "download_data_1024(url,fn)"
   ]
  },
  {
   "cell_type": "code",
   "execution_count": 3,
   "metadata": {
    "collapsed": false
   },
   "outputs": [
    {
     "data": {
      "text/plain": [
       "requests.exceptions.InvalidURL('ssssss/ssss')"
      ]
     },
     "execution_count": 3,
     "metadata": {},
     "output_type": "execute_result"
    }
   ],
   "source": [
    "r = requests.utils.\n",
    "r."
   ]
  },
  {
   "cell_type": "code",
   "execution_count": null,
   "metadata": {
    "collapsed": true
   },
   "outputs": [],
   "source": []
  }
 ],
 "metadata": {
  "kernelspec": {
   "display_name": "Python 3",
   "language": "python",
   "name": "python3"
  },
  "language_info": {
   "codemirror_mode": {
    "name": "ipython",
    "version": 3
   },
   "file_extension": ".py",
   "mimetype": "text/x-python",
   "name": "python",
   "nbconvert_exporter": "python",
   "pygments_lexer": "ipython3",
   "version": "3.5.0"
  }
 },
 "nbformat": 4,
 "nbformat_minor": 0
}
