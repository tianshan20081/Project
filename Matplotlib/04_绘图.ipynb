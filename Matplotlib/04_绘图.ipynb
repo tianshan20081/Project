{
 "cells": [
  {
   "cell_type": "code",
   "execution_count": 2,
   "metadata": {
    "collapsed": false
   },
   "outputs": [
    {
     "data": {
      "text/plain": [
       "'\\nmatplotlib-绘制精美的图表\\n\\nhttp://old.sebug.net/paper/books/scipydoc/matplotlib_intro.html\\n\\nhttp://matplotlib.org/gallery.html\\n\\n'"
      ]
     },
     "execution_count": 2,
     "metadata": {},
     "output_type": "execute_result"
    }
   ],
   "source": [
    "'''\n",
    "matplotlib-绘制精美的图表\n",
    "\n",
    "http://old.sebug.net/paper/books/scipydoc/matplotlib_intro.html\n",
    "\n",
    "http://matplotlib.org/gallery.html\n",
    "\n",
    "'''"
   ]
  },
  {
   "cell_type": "code",
   "execution_count": 3,
   "metadata": {
    "collapsed": true
   },
   "outputs": [],
   "source": [
    "# -*- coding: utf-8 -*-\n",
    "import numpy as np\n",
    "import matplotlib.pyplot as plt\n",
    "import matplotlib"
   ]
  },
  {
   "cell_type": "code",
   "execution_count": 4,
   "metadata": {
    "collapsed": true
   },
   "outputs": [],
   "source": [
    "x = np.linspace(0, 10, 1000)\n",
    "y = np.sin(x)\n",
    "z = np.cos(x**2)\n",
    "\n",
    "plt.figure(figsize=(8,4))\n",
    "plt.plot(x,y,label=\"$sin(x)$\",color=\"red\",linewidth=2)\n",
    "plt.plot(x,z,\"b--\",label=\"$cos(x^2)$\")\n",
    "plt.xlabel(\"Time(s)\")\n",
    "plt.ylabel(\"Volt\")\n",
    "plt.title(\"PyPlot First Example\")\n",
    "plt.ylim(-1.2,1.2)\n",
    "plt.legend()\n",
    "plt.show()"
   ]
  },
  {
   "cell_type": "code",
   "execution_count": 5,
   "metadata": {
    "collapsed": false
   },
   "outputs": [
    {
     "data": {
      "text/plain": [
       "'\\npylab模块\\n\\nmatplotlib还提供了名为pylab的模块，其中包括了许多numpy和pyplot中常用的函数，\\n方便用户快速进行计算和绘图，可以用于IPython中的快速交互式使用。\\n\\n'"
      ]
     },
     "execution_count": 5,
     "metadata": {},
     "output_type": "execute_result"
    }
   ],
   "source": [
    "'''\n",
    "pylab模块\n",
    "\n",
    "matplotlib还提供了名为pylab的模块，其中包括了许多numpy和pyplot中常用的函数，\n",
    "方便用户快速进行计算和绘图，可以用于IPython中的快速交互式使用。\n",
    "\n",
    "'''"
   ]
  },
  {
   "cell_type": "code",
   "execution_count": 6,
   "metadata": {
    "collapsed": false
   },
   "outputs": [
    {
     "data": {
      "text/plain": [
       "'\\n接下来调用figure创建一个绘图对象，并且使它成为当前的绘图对象。\\n\\nplt.figure(figsize=(8,4))\\n\\n也可以不创建绘图对象直接调用接下来的plot函数直接绘图，matplotlib会为我们自动创建一个绘图对象。\\n如果需要同时绘制多幅图表的话，可以是给figure传递一个整数参数指定图标的序号，如果所指定序号的绘图对象已经存在的话，\\n将不创建新的对象，而只是让它成为当前绘图对象。\\n\\n通过figsize参数可以指定绘图对象的宽度和高度，单位为英寸；dpi参数指定绘图对象的分辨率，即每英寸多少个像素，缺省值为80。\\n因此本例中所创建的图表窗口的宽度为8*80 = 640像素。\\n\\n'"
      ]
     },
     "execution_count": 6,
     "metadata": {},
     "output_type": "execute_result"
    }
   ],
   "source": [
    "'''\n",
    "接下来调用figure创建一个绘图对象，并且使它成为当前的绘图对象。\n",
    "\n",
    "plt.figure(figsize=(8,4))\n",
    "\n",
    "也可以不创建绘图对象直接调用接下来的plot函数直接绘图，matplotlib会为我们自动创建一个绘图对象。\n",
    "如果需要同时绘制多幅图表的话，可以是给figure传递一个整数参数指定图标的序号，如果所指定序号的绘图对象已经存在的话，\n",
    "将不创建新的对象，而只是让它成为当前绘图对象。\n",
    "\n",
    "通过figsize参数可以指定绘图对象的宽度和高度，单位为英寸；dpi参数指定绘图对象的分辨率，即每英寸多少个像素，缺省值为80。\n",
    "因此本例中所创建的图表窗口的宽度为8*80 = 640像素。\n",
    "\n",
    "'''"
   ]
  },
  {
   "cell_type": "code",
   "execution_count": 7,
   "metadata": {
    "collapsed": false
   },
   "outputs": [
    {
     "data": {
      "text/plain": [
       "'\\n但是用工具栏中的保存按钮保存下来的png图像的大小是800*400像素。这是因为保存图表用的函数savefig使用不同的DPI配置，\\nsavefig函数也有一个dpi参数，如果不设置的话，将使用matplotlib配置文件中的配置，此配置可以通过如下语句进行查看，\\n关于配置文件将在后面的章节进行介绍：\\n\\n\\n>>> import matplotlib\\n>>> matplotlib.rcParams[\"savefig.dpi\"]\\n100\\n\\n'"
      ]
     },
     "execution_count": 7,
     "metadata": {},
     "output_type": "execute_result"
    }
   ],
   "source": [
    "'''\n",
    "但是用工具栏中的保存按钮保存下来的png图像的大小是800*400像素。这是因为保存图表用的函数savefig使用不同的DPI配置，\n",
    "savefig函数也有一个dpi参数，如果不设置的话，将使用matplotlib配置文件中的配置，此配置可以通过如下语句进行查看，\n",
    "关于配置文件将在后面的章节进行介绍：\n",
    "\n",
    "\n",
    ">>> import matplotlib\n",
    ">>> matplotlib.rcParams[\"savefig.dpi\"]\n",
    "100\n",
    "\n",
    "'''"
   ]
  },
  {
   "cell_type": "code",
   "execution_count": 8,
   "metadata": {
    "collapsed": false
   },
   "outputs": [
    {
     "data": {
      "text/plain": [
       "100.0"
      ]
     },
     "execution_count": 8,
     "metadata": {},
     "output_type": "execute_result"
    }
   ],
   "source": [
    "matplotlib.rcParams[\"savefig.dpi\"]"
   ]
  },
  {
   "cell_type": "code",
   "execution_count": 9,
   "metadata": {
    "collapsed": false
   },
   "outputs": [
    {
     "data": {
      "text/plain": [
       "'\\n下面的两行程序通过调用plot函数在当前的绘图对象中进行绘图：\\n\\nplt.plot(x,y,label=\"$sin(x)$\",color=\"red\",linewidth=2)\\nplt.plot(x,z,\"b--\",label=\"$cos(x^2)$\")\\nplot函数的调用方式很灵活，第一句将x,y数组传递给plot之后，用关键字参数指定各种属性：\\n\\nlabel : 给所绘制的曲线一个名字，此名字在图示(legend)中显示。只要在字符串前后添加\"$\"符号，\\nmatplotlib就会使用其内嵌的latex引擎绘制的数学公式。\\ncolor : 指定曲线的颜色\\nlinewidth : 指定曲线的宽度\\n第二句直接通过第三个参数\"b--\"指定曲线的颜色和线型，这个参数称为格式化参数，它能够通过一些易记的符号快速指定曲线的样式。\\n其中b表示蓝色，\"--\"表示线型为虚线。在IPython中输入 \"plt.plot?\" 可以查看格式化字符串的详细配置。\\n\\n'"
      ]
     },
     "execution_count": 9,
     "metadata": {},
     "output_type": "execute_result"
    }
   ],
   "source": [
    "'''\n",
    "下面的两行程序通过调用plot函数在当前的绘图对象中进行绘图：\n",
    "\n",
    "plt.plot(x,y,label=\"$sin(x)$\",color=\"red\",linewidth=2)\n",
    "plt.plot(x,z,\"b--\",label=\"$cos(x^2)$\")\n",
    "plot函数的调用方式很灵活，第一句将x,y数组传递给plot之后，用关键字参数指定各种属性：\n",
    "\n",
    "label : 给所绘制的曲线一个名字，此名字在图示(legend)中显示。只要在字符串前后添加\"$\"符号，\n",
    "matplotlib就会使用其内嵌的latex引擎绘制的数学公式。\n",
    "color : 指定曲线的颜色\n",
    "linewidth : 指定曲线的宽度\n",
    "第二句直接通过第三个参数\"b--\"指定曲线的颜色和线型，这个参数称为格式化参数，它能够通过一些易记的符号快速指定曲线的样式。\n",
    "其中b表示蓝色，\"--\"表示线型为虚线。在IPython中输入 \"plt.plot?\" 可以查看格式化字符串的详细配置。\n",
    "\n",
    "'''"
   ]
  },
  {
   "cell_type": "code",
   "execution_count": 10,
   "metadata": {
    "collapsed": false
   },
   "outputs": [],
   "source": [
    "plt.plot(x,y,label=\"$sin(x)$\",color=\"red\",linewidth=2)\n",
    "plt.plot(x,z,\"b--\",label=\"$cos(x^2)$\")\n",
    "plt.show()"
   ]
  },
  {
   "cell_type": "code",
   "execution_count": 11,
   "metadata": {
    "collapsed": false
   },
   "outputs": [
    {
     "data": {
      "text/plain": [
       "'\\n接下来通过一系列函数设置绘图对象的各个属性：\\n\\nplt.xlabel(\"Time(s)\")\\nplt.ylabel(\"Volt\")\\nplt.title(\"PyPlot First Example\")\\nplt.ylim(-1.2,1.2)\\nplt.legend()\\nxlabel : 设置X轴的文字\\nylabel : 设置Y轴的文字\\ntitle : 设置图表的标题\\nylim : 设置Y轴的范围\\nlegend : 显示图示\\n最后调用plt.show()显示出我们创建的所有绘图对象。\\n\\n'"
      ]
     },
     "execution_count": 11,
     "metadata": {},
     "output_type": "execute_result"
    }
   ],
   "source": [
    "'''\n",
    "接下来通过一系列函数设置绘图对象的各个属性：\n",
    "\n",
    "plt.xlabel(\"Time(s)\")\n",
    "plt.ylabel(\"Volt\")\n",
    "plt.title(\"PyPlot First Example\")\n",
    "plt.ylim(-1.2,1.2)\n",
    "plt.legend()\n",
    "xlabel : 设置X轴的文字\n",
    "ylabel : 设置Y轴的文字\n",
    "title : 设置图表的标题\n",
    "ylim : 设置Y轴的范围\n",
    "legend : 显示图示\n",
    "最后调用plt.show()显示出我们创建的所有绘图对象。\n",
    "\n",
    "'''"
   ]
  },
  {
   "cell_type": "code",
   "execution_count": 12,
   "metadata": {
    "collapsed": false
   },
   "outputs": [
    {
     "data": {
      "text/plain": [
       "'\\n配置属性\\nmatplotlib所绘制的图的每个组成部分都对应有一个对象，我们可以通过调用这些对象的属性设置方法set_*或者pyplot的属性设置函数setp设置其属性值。\\n例如plot函数返回一个 matplotlib.lines.Line2D 对象的列表，下面的例子显示如何设置Line2D对象的属性：\\n\\n'"
      ]
     },
     "execution_count": 12,
     "metadata": {},
     "output_type": "execute_result"
    }
   ],
   "source": [
    "'''\n",
    "配置属性\n",
    "matplotlib所绘制的图的每个组成部分都对应有一个对象，我们可以通过调用这些对象的属性设置方法set_*或者pyplot的属性设置函数setp设置其属性值。\n",
    "例如plot函数返回一个 matplotlib.lines.Line2D 对象的列表，下面的例子显示如何设置Line2D对象的属性：\n",
    "\n",
    "'''"
   ]
  },
  {
   "cell_type": "code",
   "execution_count": 13,
   "metadata": {
    "collapsed": true
   },
   "outputs": [],
   "source": [
    "import numpy as np\n",
    "import matplotlib.pyplot as plt\n",
    "x = np.arange(0, 5, 0.1)\n",
    "line, = plt.plot(x, x*x) # plot返回一个列表，通过line,获取其第一个元素\n",
    "# 调用Line2D对象的set_*方法设置属性值\n",
    "line.set_antialiased(False)"
   ]
  },
  {
   "cell_type": "code",
   "execution_count": 14,
   "metadata": {
    "collapsed": false
   },
   "outputs": [
    {
     "data": {
      "text/plain": [
       "[None, None, None, None]"
      ]
     },
     "execution_count": 14,
     "metadata": {},
     "output_type": "execute_result"
    }
   ],
   "source": [
    "# 同时绘制sin和cos两条曲线，lines是一个有两个Line2D对象的列表\n",
    "lines = plt.plot(x, np.sin(x), x, np.cos(x)) #\n",
    "# 调用setp函数同时配置多个Line2D对象的多个属性值\n",
    "plt.setp(lines, color=\"r\", linewidth=2.0)"
   ]
  },
  {
   "cell_type": "code",
   "execution_count": 15,
   "metadata": {
    "collapsed": false
   },
   "outputs": [
    {
     "data": {
      "text/plain": [
       "'\\n这段例子中，通过调用Line2D对象line的set_antialiased方法，关闭对象的反锯齿效果。\\n或者通过调用plt.setp函数配置多个Line2D对象的颜色和线宽属性。\\n\\n同样我们可以通过调用Line2D对象的get_*方法，或者plt.getp函数获取对象的属性值：\\n'"
      ]
     },
     "execution_count": 15,
     "metadata": {},
     "output_type": "execute_result"
    }
   ],
   "source": [
    "'''\n",
    "这段例子中，通过调用Line2D对象line的set_antialiased方法，关闭对象的反锯齿效果。\n",
    "或者通过调用plt.setp函数配置多个Line2D对象的颜色和线宽属性。\n",
    "\n",
    "同样我们可以通过调用Line2D对象的get_*方法，或者plt.getp函数获取对象的属性值：\n",
    "'''"
   ]
  },
  {
   "cell_type": "code",
   "execution_count": 16,
   "metadata": {
    "collapsed": false
   },
   "outputs": [
    {
     "data": {
      "text/plain": [
       "1.0"
      ]
     },
     "execution_count": 16,
     "metadata": {},
     "output_type": "execute_result"
    }
   ],
   "source": [
    "line.get_linewidth()\n"
   ]
  },
  {
   "cell_type": "code",
   "execution_count": 17,
   "metadata": {
    "collapsed": false
   },
   "outputs": [
    {
     "data": {
      "text/plain": [
       "'r'"
      ]
     },
     "execution_count": 17,
     "metadata": {},
     "output_type": "execute_result"
    }
   ],
   "source": [
    "plt.getp(lines[0], \"color\") # 返回color属性"
   ]
  },
  {
   "cell_type": "code",
   "execution_count": 18,
   "metadata": {
    "collapsed": false
   },
   "outputs": [
    {
     "name": "stdout",
     "output_type": "stream",
     "text": [
      "    agg_filter = None\n",
      "    alpha = None\n",
      "    animated = False\n",
      "    antialiased or aa = True\n",
      "    axes = Axes(0.125,0.1;0.775x0.8)\n",
      "    children = []\n",
      "    clip_box = TransformedBbox(Bbox([[0.0, 0.0], [1.0, 1.0]]), Co...\n",
      "    clip_on = True\n",
      "    clip_path = None\n",
      "    color or c = r\n",
      "    contains = None\n",
      "    dash_capstyle = butt\n",
      "    dash_joinstyle = round\n",
      "    data = (array([ 0. ,  0.1,  0.2,  0.3,  0.4,  0.5,  0.6, ...\n",
      "    drawstyle = default\n",
      "    figure = Figure(640x480)\n",
      "    fillstyle = full\n",
      "    gid = None\n",
      "    label = _line2\n",
      "    linestyle or ls = -\n",
      "    linewidth or lw = 2.0\n",
      "    marker = None\n",
      "    markeredgecolor or mec = r\n",
      "    markeredgewidth or mew = 0.5\n",
      "    markerfacecolor or mfc = r\n",
      "    markerfacecoloralt or mfcalt = none\n",
      "    markersize or ms = 6.0\n",
      "    markevery = None\n",
      "    path = Path(array([[ 0.        ,  1.        ],        [ 0...\n",
      "    path_effects = []\n",
      "    picker = None\n",
      "    pickradius = 5\n",
      "    rasterized = None\n",
      "    sketch_params = None\n",
      "    snap = None\n",
      "    solid_capstyle = projecting\n",
      "    solid_joinstyle = round\n",
      "    transform = CompositeGenericTransform(TransformWrapper(Blended...\n",
      "    transformed_clip_path_and_affine = (None, None)\n",
      "    url = None\n",
      "    visible = True\n",
      "    xdata = [ 0.   0.1  0.2  0.3  0.4  0.5]...\n",
      "    xydata = [[ 0.          1.        ]  [ 0.1         0.995004...\n",
      "    ydata = [ 1.          0.99500417  0.98006658  0.95533649  ...\n",
      "    zorder = 2\n"
     ]
    }
   ],
   "source": [
    "plt.getp(lines[1]) # 输出全部属性"
   ]
  },
  {
   "cell_type": "code",
   "execution_count": 19,
   "metadata": {
    "collapsed": false
   },
   "outputs": [
    {
     "data": {
      "text/plain": [
       "'\\n注意getp函数只能对一个对象进行操作，它有两种用法：\\n\\n指定属性名：返回对象的指定属性的值\\n不指定属性名：打印出对象的所有属性和其值\\n'"
      ]
     },
     "execution_count": 19,
     "metadata": {},
     "output_type": "execute_result"
    }
   ],
   "source": [
    "'''\n",
    "注意getp函数只能对一个对象进行操作，它有两种用法：\n",
    "\n",
    "指定属性名：返回对象的指定属性的值\n",
    "不指定属性名：打印出对象的所有属性和其值\n",
    "'''"
   ]
  },
  {
   "cell_type": "code",
   "execution_count": 20,
   "metadata": {
    "collapsed": false
   },
   "outputs": [
    {
     "data": {
      "text/plain": [
       "'\\nmatplotlib的整个图表为一个Figure对象，此对象在调用plt.figure函数时返回，我们也可以通过plt.gcf函数获取当前的绘图对象：\\n\\n'"
      ]
     },
     "execution_count": 20,
     "metadata": {},
     "output_type": "execute_result"
    }
   ],
   "source": [
    "'''\n",
    "matplotlib的整个图表为一个Figure对象，此对象在调用plt.figure函数时返回，我们也可以通过plt.gcf函数获取当前的绘图对象：\n",
    "\n",
    "'''"
   ]
  },
  {
   "cell_type": "code",
   "execution_count": 21,
   "metadata": {
    "collapsed": true
   },
   "outputs": [],
   "source": [
    "f = plt.gcf()"
   ]
  },
  {
   "cell_type": "code",
   "execution_count": 22,
   "metadata": {
    "collapsed": false
   },
   "outputs": [
    {
     "name": "stdout",
     "output_type": "stream",
     "text": [
      "    agg_filter = None\n",
      "    alpha = None\n",
      "    animated = False\n",
      "    axes = [<matplotlib.axes._subplots.AxesSubplot object at ...\n",
      "    children = [<matplotlib.patches.Rectangle object at 0x10a949a...\n",
      "    clip_box = None\n",
      "    clip_on = True\n",
      "    clip_path = None\n",
      "    contains = None\n",
      "    default_bbox_extra_artists = [<matplotlib.axes._subplots.AxesSubplot object at ...\n",
      "    dpi = 80.0\n",
      "    edgecolor = (1.0, 1.0, 1.0, 1.0)\n",
      "    facecolor = (0.75, 0.75, 0.75, 1.0)\n",
      "    figheight = 6.0\n",
      "    figure = None\n",
      "    figwidth = 8.0\n",
      "    frameon = True\n",
      "    gid = None\n",
      "    label = \n",
      "    path_effects = []\n",
      "    picker = None\n",
      "    rasterized = None\n",
      "    size_inches = [ 8.  6.]\n",
      "    sketch_params = None\n",
      "    snap = None\n",
      "    tight_layout = False\n",
      "    transform = IdentityTransform()\n",
      "    transformed_clip_path_and_affine = (None, None)\n",
      "    url = None\n",
      "    visible = True\n",
      "    window_extent = TransformedBbox(Bbox([[0.0, 0.0], [8.0, 6.0]]), Af...\n",
      "    zorder = 0\n"
     ]
    }
   ],
   "source": [
    "plt.getp(f)"
   ]
  },
  {
   "cell_type": "code",
   "execution_count": 23,
   "metadata": {
    "collapsed": false
   },
   "outputs": [
    {
     "data": {
      "text/plain": [
       "'\\nFigure对象有一个axes属性，其值为AxesSubplot对象的列表，每个AxesSubplot对象代表图表中的一个子图，前面所绘制的图表只包含一个子图，\\n当前子图也可以通过plt.gca获得：\\n\\n\\n'"
      ]
     },
     "execution_count": 23,
     "metadata": {},
     "output_type": "execute_result"
    }
   ],
   "source": [
    "'''\n",
    "Figure对象有一个axes属性，其值为AxesSubplot对象的列表，每个AxesSubplot对象代表图表中的一个子图，前面所绘制的图表只包含一个子图，\n",
    "当前子图也可以通过plt.gca获得：\n",
    "\n",
    "\n",
    "'''"
   ]
  },
  {
   "cell_type": "code",
   "execution_count": 24,
   "metadata": {
    "collapsed": false
   },
   "outputs": [
    {
     "data": {
      "text/plain": [
       "[<matplotlib.axes._subplots.AxesSubplot at 0x10a9cf908>]"
      ]
     },
     "execution_count": 24,
     "metadata": {},
     "output_type": "execute_result"
    }
   ],
   "source": [
    "plt.getp(f, \"axes\")"
   ]
  },
  {
   "cell_type": "code",
   "execution_count": 25,
   "metadata": {
    "collapsed": false
   },
   "outputs": [
    {
     "data": {
      "text/plain": [
       "<matplotlib.axes._subplots.AxesSubplot at 0x10a9cf908>"
      ]
     },
     "execution_count": 25,
     "metadata": {},
     "output_type": "execute_result"
    }
   ],
   "source": [
    "plt.gca()"
   ]
  },
  {
   "cell_type": "code",
   "execution_count": 26,
   "metadata": {
    "collapsed": false
   },
   "outputs": [
    {
     "data": {
      "text/plain": [
       "'\\n用plt.getp可以发现AxesSubplot对象有很多属性，例如它的lines属性为此子图所包括的 Line2D 对象列表：\\n'"
      ]
     },
     "execution_count": 26,
     "metadata": {},
     "output_type": "execute_result"
    }
   ],
   "source": [
    "'''\n",
    "用plt.getp可以发现AxesSubplot对象有很多属性，例如它的lines属性为此子图所包括的 Line2D 对象列表：\n",
    "'''"
   ]
  },
  {
   "cell_type": "code",
   "execution_count": 27,
   "metadata": {
    "collapsed": true
   },
   "outputs": [],
   "source": [
    "alllines = plt.getp(plt.gca(), \"lines\")"
   ]
  },
  {
   "cell_type": "code",
   "execution_count": 28,
   "metadata": {
    "collapsed": false
   },
   "outputs": [
    {
     "data": {
      "text/plain": [
       "<a list of 3 Line2D objects>"
      ]
     },
     "execution_count": 28,
     "metadata": {},
     "output_type": "execute_result"
    }
   ],
   "source": [
    "alllines"
   ]
  },
  {
   "cell_type": "code",
   "execution_count": 29,
   "metadata": {
    "collapsed": false
   },
   "outputs": [
    {
     "data": {
      "text/plain": [
       "True"
      ]
     },
     "execution_count": 29,
     "metadata": {},
     "output_type": "execute_result"
    }
   ],
   "source": [
    "alllines[0] == line # 其中的第一条曲线就是最开始绘制的那条曲线"
   ]
  },
  {
   "cell_type": "code",
   "execution_count": 30,
   "metadata": {
    "collapsed": false
   },
   "outputs": [
    {
     "data": {
      "text/plain": [
       "'\\n通过这种方法我们可以很容易地查看对象的属性和它们之间的包含关系，找到需要配置的属性。\\n'"
      ]
     },
     "execution_count": 30,
     "metadata": {},
     "output_type": "execute_result"
    }
   ],
   "source": [
    "'''\n",
    "通过这种方法我们可以很容易地查看对象的属性和它们之间的包含关系，找到需要配置的属性。\n",
    "'''"
   ]
  },
  {
   "cell_type": "code",
   "execution_count": 31,
   "metadata": {
    "collapsed": false
   },
   "outputs": [
    {
     "data": {
      "text/plain": [
       "'\\n5.2\\u3000绘制多轴图¶\\n一个绘图对象(figure)可以包含多个轴(axis)，在Matplotlib中用轴表示一个绘图区域，可以将其理解为子图。\\n上面的第一个例子中，绘图对象只包括一个轴，因此只显示了一个轴(子图)。我们可以使用subplot函数快速绘制有多个轴的图表。subplot函数的调用形式如下：\\n\\nsubplot(numRows, numCols, plotNum)\\n'"
      ]
     },
     "execution_count": 31,
     "metadata": {},
     "output_type": "execute_result"
    }
   ],
   "source": [
    "'''\n",
    "5.2　绘制多轴图¶\n",
    "一个绘图对象(figure)可以包含多个轴(axis)，在Matplotlib中用轴表示一个绘图区域，可以将其理解为子图。\n",
    "上面的第一个例子中，绘图对象只包括一个轴，因此只显示了一个轴(子图)。我们可以使用subplot函数快速绘制有多个轴的图表。subplot函数的调用形式如下：\n",
    "\n",
    "subplot(numRows, numCols, plotNum)\n",
    "'''"
   ]
  },
  {
   "cell_type": "code",
   "execution_count": 32,
   "metadata": {
    "collapsed": false
   },
   "outputs": [
    {
     "data": {
      "text/plain": [
       "'\\nsubplot将整个绘图区域等分为numRows行 * numCols列个子区域，然后按照从左到右，从上到下的顺序对每个子区域进行编号，\\n左上的子区域的编号为1。如果numRows，numCols和plotNum这三个数都小于10的话，可以把它们缩写为一个整数，\\n例如subplot(323)和subplot(3,2,3)是相同的。subplot在plotNum指定的区域中创建一个轴对象。如果新创建的轴和之前创建的轴重叠的话，之前的轴将被删除。\\n\\n下面的程序创建3行2列共6个轴，通过axisbg参数给每个轴设置不同的背景颜色。\\n\\n'"
      ]
     },
     "execution_count": 32,
     "metadata": {},
     "output_type": "execute_result"
    }
   ],
   "source": [
    "'''\n",
    "subplot将整个绘图区域等分为numRows行 * numCols列个子区域，然后按照从左到右，从上到下的顺序对每个子区域进行编号，\n",
    "左上的子区域的编号为1。如果numRows，numCols和plotNum这三个数都小于10的话，可以把它们缩写为一个整数，\n",
    "例如subplot(323)和subplot(3,2,3)是相同的。subplot在plotNum指定的区域中创建一个轴对象。如果新创建的轴和之前创建的轴重叠的话，之前的轴将被删除。\n",
    "\n",
    "下面的程序创建3行2列共6个轴，通过axisbg参数给每个轴设置不同的背景颜色。\n",
    "\n",
    "'''"
   ]
  },
  {
   "cell_type": "code",
   "execution_count": 33,
   "metadata": {
    "collapsed": true
   },
   "outputs": [],
   "source": [
    "for idx, color in enumerate(\"rgbyck\"):\n",
    "    plt.subplot(320+idx+1, axisbg=color)\n",
    "plt.show()"
   ]
  },
  {
   "cell_type": "code",
   "execution_count": 34,
   "metadata": {
    "collapsed": false
   },
   "outputs": [
    {
     "data": {
      "text/plain": [
       "'\\n如果希望某个轴占据整个行或者列的话，可以如下调用subplot：\\n\\n'"
      ]
     },
     "execution_count": 34,
     "metadata": {},
     "output_type": "execute_result"
    }
   ],
   "source": [
    "'''\n",
    "如果希望某个轴占据整个行或者列的话，可以如下调用subplot：\n",
    "\n",
    "'''"
   ]
  },
  {
   "cell_type": "code",
   "execution_count": 35,
   "metadata": {
    "collapsed": true
   },
   "outputs": [],
   "source": [
    "plt.subplot(221) # 第一行的左图\n",
    "plt.subplot(222) # 第一行的右图\n",
    "plt.subplot(212) # 第二整行\n",
    "plt.show()"
   ]
  },
  {
   "cell_type": "code",
   "execution_count": 36,
   "metadata": {
    "collapsed": false
   },
   "outputs": [
    {
     "data": {
      "text/plain": [
       "'\\n5.3\\u3000配置文件¶\\n一幅图有许多需要配置的属性，例如颜色、字体、线型等等。我们在绘图时，并没有一一对这些属性进行配置，许多都直接采用了Matplotlib的缺省配置。\\nMatplotlib将缺省配置保存在一个文件中，通过更改这个文件，我们可以修改这些属性的缺省值。\\n\\nMatplotlib 使用配置文件 matplotlibrc 时的搜索顺序如下：\\n\\n当前路径 : 程序的当前路径\\n用户配置路径 : 通常为 HOME/.matplotlib/，可以通过环境变量MATPLOTLIBRC修改\\n系统配置路径 : 保存在 matplotlib的安装目录下的 mpl-data 下\\n通过下面的语句可以获取用户配置路径：\\n'"
      ]
     },
     "execution_count": 36,
     "metadata": {},
     "output_type": "execute_result"
    }
   ],
   "source": [
    "'''\n",
    "5.3　配置文件¶\n",
    "一幅图有许多需要配置的属性，例如颜色、字体、线型等等。我们在绘图时，并没有一一对这些属性进行配置，许多都直接采用了Matplotlib的缺省配置。\n",
    "Matplotlib将缺省配置保存在一个文件中，通过更改这个文件，我们可以修改这些属性的缺省值。\n",
    "\n",
    "Matplotlib 使用配置文件 matplotlibrc 时的搜索顺序如下：\n",
    "\n",
    "当前路径 : 程序的当前路径\n",
    "用户配置路径 : 通常为 HOME/.matplotlib/，可以通过环境变量MATPLOTLIBRC修改\n",
    "系统配置路径 : 保存在 matplotlib的安装目录下的 mpl-data 下\n",
    "通过下面的语句可以获取用户配置路径：\n",
    "'''"
   ]
  },
  {
   "cell_type": "code",
   "execution_count": 37,
   "metadata": {
    "collapsed": false
   },
   "outputs": [
    {
     "data": {
      "text/plain": [
       "'/Users/mz/.matplotlib'"
      ]
     },
     "execution_count": 37,
     "metadata": {},
     "output_type": "execute_result"
    }
   ],
   "source": [
    "matplotlib.get_configdir()"
   ]
  },
  {
   "cell_type": "code",
   "execution_count": 38,
   "metadata": {
    "collapsed": false
   },
   "outputs": [
    {
     "data": {
      "text/plain": [
       "'\\n通过下面的语句可以获得目前使用的配置文件的路径：\\n'"
      ]
     },
     "execution_count": 38,
     "metadata": {},
     "output_type": "execute_result"
    }
   ],
   "source": [
    "'''\n",
    "通过下面的语句可以获得目前使用的配置文件的路径：\n",
    "'''"
   ]
  },
  {
   "cell_type": "code",
   "execution_count": 39,
   "metadata": {
    "collapsed": false
   },
   "outputs": [
    {
     "data": {
      "text/plain": [
       "'/Users/mz/dev/python/programe/Matplotlib/matplotlibrc'"
      ]
     },
     "execution_count": 39,
     "metadata": {},
     "output_type": "execute_result"
    }
   ],
   "source": [
    "matplotlib.matplotlib_fname()"
   ]
  },
  {
   "cell_type": "code",
   "execution_count": 40,
   "metadata": {
    "collapsed": false
   },
   "outputs": [
    {
     "data": {
      "text/plain": [
       "'\\n配置文件的读入可以使用 rc_params 函数，它返回一个配置字典：\\n'"
      ]
     },
     "execution_count": 40,
     "metadata": {},
     "output_type": "execute_result"
    }
   ],
   "source": [
    "'''\n",
    "配置文件的读入可以使用 rc_params 函数，它返回一个配置字典：\n",
    "'''"
   ]
  },
  {
   "cell_type": "code",
   "execution_count": 41,
   "metadata": {
    "collapsed": false
   },
   "outputs": [
    {
     "data": {
      "text/plain": [
       "RcParams({'agg.path.chunksize': 0,\n",
       "          'animation.avconv_args': [],\n",
       "          'animation.avconv_path': 'avconv',\n",
       "          'animation.bitrate': -1,\n",
       "          'animation.codec': 'mpeg4',\n",
       "          'animation.convert_args': [],\n",
       "          'animation.convert_path': 'convert',\n",
       "          'animation.ffmpeg_args': [],\n",
       "          'animation.ffmpeg_path': 'ffmpeg',\n",
       "          'animation.frame_format': 'png',\n",
       "          'animation.html': 'none',\n",
       "          'animation.mencoder_args': [],\n",
       "          'animation.mencoder_path': 'mencoder',\n",
       "          'animation.writer': 'ffmpeg',\n",
       "          'axes.axisbelow': False,\n",
       "          'axes.edgecolor': 'k',\n",
       "          'axes.facecolor': 'w',\n",
       "          'axes.formatter.limits': [-7, 7],\n",
       "          'axes.formatter.use_locale': False,\n",
       "          'axes.formatter.use_mathtext': False,\n",
       "          'axes.formatter.useoffset': True,\n",
       "          'axes.grid': False,\n",
       "          'axes.grid.axis': 'both',\n",
       "          'axes.grid.which': 'major',\n",
       "          'axes.hold': True,\n",
       "          'axes.labelcolor': 'k',\n",
       "          'axes.labelpad': 5.0,\n",
       "          'axes.labelsize': 'medium',\n",
       "          'axes.labelweight': 'normal',\n",
       "          'axes.linewidth': 1.0,\n",
       "          'axes.prop_cycle': cycler('color', ['b', 'g', 'r', 'c', 'm', 'y', 'k']),\n",
       "          'axes.spines.bottom': True,\n",
       "          'axes.spines.left': True,\n",
       "          'axes.spines.right': True,\n",
       "          'axes.spines.top': True,\n",
       "          'axes.titlesize': 'large',\n",
       "          'axes.titleweight': 'normal',\n",
       "          'axes.unicode_minus': True,\n",
       "          'axes.xmargin': 0.0,\n",
       "          'axes.ymargin': 0.0,\n",
       "          'axes3d.grid': True,\n",
       "          'backend': 'MacOSX',\n",
       "          'backend.qt4': 'PyQt4',\n",
       "          'backend.qt5': 'PyQt5',\n",
       "          'backend_fallback': True,\n",
       "          'boxplot.bootstrap': None,\n",
       "          'boxplot.boxprops.color': 'b',\n",
       "          'boxplot.boxprops.linestyle': '-',\n",
       "          'boxplot.boxprops.linewidth': 1.0,\n",
       "          'boxplot.capprops.color': 'k',\n",
       "          'boxplot.capprops.linestyle': '-',\n",
       "          'boxplot.capprops.linewidth': 1.0,\n",
       "          'boxplot.flierprops.color': 'b',\n",
       "          'boxplot.flierprops.linestyle': 'none',\n",
       "          'boxplot.flierprops.linewidth': 1.0,\n",
       "          'boxplot.flierprops.marker': '+',\n",
       "          'boxplot.flierprops.markeredgecolor': 'k',\n",
       "          'boxplot.flierprops.markerfacecolor': 'b',\n",
       "          'boxplot.flierprops.markersize': 6.0,\n",
       "          'boxplot.meanline': False,\n",
       "          'boxplot.meanprops.color': 'r',\n",
       "          'boxplot.meanprops.linestyle': '-',\n",
       "          'boxplot.meanprops.linewidth': 1.0,\n",
       "          'boxplot.medianprops.color': 'r',\n",
       "          'boxplot.medianprops.linestyle': '-',\n",
       "          'boxplot.medianprops.linewidth': 1.0,\n",
       "          'boxplot.notch': False,\n",
       "          'boxplot.patchartist': False,\n",
       "          'boxplot.showbox': True,\n",
       "          'boxplot.showcaps': True,\n",
       "          'boxplot.showfliers': True,\n",
       "          'boxplot.showmeans': False,\n",
       "          'boxplot.vertical': True,\n",
       "          'boxplot.whiskerprops.color': 'b',\n",
       "          'boxplot.whiskerprops.linestyle': '--',\n",
       "          'boxplot.whiskerprops.linewidth': 1.0,\n",
       "          'boxplot.whiskers': 1.5,\n",
       "          'contour.corner_mask': True,\n",
       "          'contour.negative_linestyle': 'dashed',\n",
       "          'datapath': '/Library/Frameworks/Python.framework/Versions/3.5/lib/python3.5/site-packages/matplotlib/mpl-data',\n",
       "          'docstring.hardcopy': False,\n",
       "          'errorbar.capsize': 3.0,\n",
       "          'examples.directory': '',\n",
       "          'figure.autolayout': False,\n",
       "          'figure.dpi': 80.0,\n",
       "          'figure.edgecolor': 'w',\n",
       "          'figure.facecolor': '0.75',\n",
       "          'figure.figsize': [8.0, 6.0],\n",
       "          'figure.frameon': True,\n",
       "          'figure.max_open_warning': 20,\n",
       "          'figure.subplot.bottom': 0.1,\n",
       "          'figure.subplot.hspace': 0.2,\n",
       "          'figure.subplot.left': 0.125,\n",
       "          'figure.subplot.right': 0.9,\n",
       "          'figure.subplot.top': 0.9,\n",
       "          'figure.subplot.wspace': 0.2,\n",
       "          'figure.titlesize': 'medium',\n",
       "          'figure.titleweight': 'normal',\n",
       "          'font.cursive': ['Apple Chancery',\n",
       "                           'Textile',\n",
       "                           'Zapf Chancery',\n",
       "                           'Sand',\n",
       "                           'Script MT',\n",
       "                           'Felipa',\n",
       "                           'cursive'],\n",
       "          'font.family': ['sans-serif'],\n",
       "          'font.fantasy': ['Comic Sans MS',\n",
       "                           'Chicago',\n",
       "                           'Charcoal',\n",
       "                           'ImpactWestern',\n",
       "                           'Humor Sans',\n",
       "                           'fantasy'],\n",
       "          'font.monospace': ['Bitstream Vera Sans Mono',\n",
       "                             'DejaVu Sans Mono',\n",
       "                             'Andale Mono',\n",
       "                             'Nimbus Mono L',\n",
       "                             'Courier New',\n",
       "                             'Courier',\n",
       "                             'Fixed',\n",
       "                             'Terminal',\n",
       "                             'monospace'],\n",
       "          'font.sans-serif': ['Bitstream Vera Sans',\n",
       "                              'DejaVu Sans',\n",
       "                              'Lucida Grande',\n",
       "                              'Verdana',\n",
       "                              'Geneva',\n",
       "                              'Lucid',\n",
       "                              'Arial',\n",
       "                              'Helvetica',\n",
       "                              'Avant Garde',\n",
       "                              'sans-serif'],\n",
       "          'font.serif': ['Bitstream Vera Serif',\n",
       "                         'DejaVu Serif',\n",
       "                         'New Century Schoolbook',\n",
       "                         'Century Schoolbook L',\n",
       "                         'Utopia',\n",
       "                         'ITC Bookman',\n",
       "                         'Bookman',\n",
       "                         'Nimbus Roman No9 L',\n",
       "                         'Times New Roman',\n",
       "                         'Times',\n",
       "                         'Palatino',\n",
       "                         'Charter',\n",
       "                         'serif'],\n",
       "          'font.size': 12.0,\n",
       "          'font.stretch': 'normal',\n",
       "          'font.style': 'normal',\n",
       "          'font.variant': 'normal',\n",
       "          'font.weight': 'normal',\n",
       "          'grid.alpha': 1.0,\n",
       "          'grid.color': 'k',\n",
       "          'grid.linestyle': ':',\n",
       "          'grid.linewidth': 0.5,\n",
       "          'image.aspect': 'equal',\n",
       "          'image.cmap': 'jet',\n",
       "          'image.composite_image': True,\n",
       "          'image.interpolation': 'bilinear',\n",
       "          'image.lut': 256,\n",
       "          'image.origin': 'upper',\n",
       "          'image.resample': False,\n",
       "          'interactive': False,\n",
       "          'keymap.all_axes': ['a'],\n",
       "          'keymap.back': ['left', 'c', 'backspace'],\n",
       "          'keymap.forward': ['right', 'v'],\n",
       "          'keymap.fullscreen': ['f', 'ctrl+f'],\n",
       "          'keymap.grid': ['g'],\n",
       "          'keymap.home': ['h', 'r', 'home'],\n",
       "          'keymap.pan': ['p'],\n",
       "          'keymap.quit': ['ctrl+w', 'cmd+w'],\n",
       "          'keymap.save': ['s', 'ctrl+s'],\n",
       "          'keymap.xscale': ['k', 'L'],\n",
       "          'keymap.yscale': ['l'],\n",
       "          'keymap.zoom': ['o'],\n",
       "          'legend.borderaxespad': 0.5,\n",
       "          'legend.borderpad': 0.4,\n",
       "          'legend.columnspacing': 2.0,\n",
       "          'legend.edgecolor': 'inherit',\n",
       "          'legend.facecolor': 'inherit',\n",
       "          'legend.fancybox': False,\n",
       "          'legend.fontsize': 'large',\n",
       "          'legend.framealpha': None,\n",
       "          'legend.frameon': True,\n",
       "          'legend.handleheight': 0.7,\n",
       "          'legend.handlelength': 2.0,\n",
       "          'legend.handletextpad': 0.8,\n",
       "          'legend.isaxes': True,\n",
       "          'legend.labelspacing': 0.5,\n",
       "          'legend.loc': 'upper right',\n",
       "          'legend.markerscale': 1.0,\n",
       "          'legend.numpoints': 2,\n",
       "          'legend.scatterpoints': 3,\n",
       "          'legend.shadow': False,\n",
       "          'lines.antialiased': True,\n",
       "          'lines.color': 'b',\n",
       "          'lines.dash_capstyle': 'butt',\n",
       "          'lines.dash_joinstyle': 'round',\n",
       "          'lines.linestyle': '-',\n",
       "          'lines.linewidth': 1.0,\n",
       "          'lines.marker': 'None',\n",
       "          'lines.markeredgewidth': 0.5,\n",
       "          'lines.markersize': 6.0,\n",
       "          'lines.solid_capstyle': 'projecting',\n",
       "          'lines.solid_joinstyle': 'round',\n",
       "          'markers.fillstyle': 'full',\n",
       "          'mathtext.bf': 'serif:bold',\n",
       "          'mathtext.cal': 'cursive',\n",
       "          'mathtext.default': 'it',\n",
       "          'mathtext.fallback_to_cm': True,\n",
       "          'mathtext.fontset': 'cm',\n",
       "          'mathtext.it': 'serif:italic',\n",
       "          'mathtext.rm': 'serif',\n",
       "          'mathtext.sf': 'sans\\\\-serif',\n",
       "          'mathtext.tt': 'monospace',\n",
       "          'nbagg.transparent': True,\n",
       "          'patch.antialiased': True,\n",
       "          'patch.edgecolor': 'k',\n",
       "          'patch.facecolor': 'b',\n",
       "          'patch.linewidth': 1.0,\n",
       "          'path.effects': [],\n",
       "          'path.simplify': True,\n",
       "          'path.simplify_threshold': 0.1111111111111111,\n",
       "          'path.sketch': None,\n",
       "          'path.snap': True,\n",
       "          'pdf.compression': 6,\n",
       "          'pdf.fonttype': 3,\n",
       "          'pdf.inheritcolor': False,\n",
       "          'pdf.use14corefonts': False,\n",
       "          'pgf.debug': False,\n",
       "          'pgf.preamble': [],\n",
       "          'pgf.rcfonts': True,\n",
       "          'pgf.texsystem': 'xelatex',\n",
       "          'plugins.directory': '.matplotlib_plugins',\n",
       "          'polaraxes.grid': True,\n",
       "          'ps.distiller.res': 6000,\n",
       "          'ps.fonttype': 3,\n",
       "          'ps.papersize': 'letter',\n",
       "          'ps.useafm': False,\n",
       "          'ps.usedistiller': False,\n",
       "          'savefig.bbox': None,\n",
       "          'savefig.directory': '~',\n",
       "          'savefig.dpi': 100.0,\n",
       "          'savefig.edgecolor': 'w',\n",
       "          'savefig.facecolor': 'w',\n",
       "          'savefig.format': 'png',\n",
       "          'savefig.frameon': True,\n",
       "          'savefig.jpeg_quality': 95,\n",
       "          'savefig.orientation': 'portrait',\n",
       "          'savefig.pad_inches': 0.1,\n",
       "          'savefig.transparent': False,\n",
       "          'svg.fonttype': 'path',\n",
       "          'svg.image_inline': True,\n",
       "          'svg.image_noscale': False,\n",
       "          'text.antialiased': True,\n",
       "          'text.color': 'k',\n",
       "          'text.dvipnghack': None,\n",
       "          'text.hinting': 'auto',\n",
       "          'text.hinting_factor': 8,\n",
       "          'text.latex.preamble': [],\n",
       "          'text.latex.preview': False,\n",
       "          'text.latex.unicode': False,\n",
       "          'text.usetex': False,\n",
       "          'timezone': 'UTC',\n",
       "          'tk.window_focus': False,\n",
       "          'toolbar': 'toolbar2',\n",
       "          'verbose.fileo': 'sys.stdout',\n",
       "          'verbose.level': 'silent',\n",
       "          'webagg.open_in_browser': True,\n",
       "          'webagg.port': 8988,\n",
       "          'webagg.port_retries': 50,\n",
       "          'xtick.color': 'k',\n",
       "          'xtick.direction': 'in',\n",
       "          'xtick.labelsize': 'medium',\n",
       "          'xtick.major.pad': 4.0,\n",
       "          'xtick.major.size': 4.0,\n",
       "          'xtick.major.width': 0.5,\n",
       "          'xtick.minor.pad': 4.0,\n",
       "          'xtick.minor.size': 2.0,\n",
       "          'xtick.minor.visible': False,\n",
       "          'xtick.minor.width': 0.5,\n",
       "          'ytick.color': 'k',\n",
       "          'ytick.direction': 'in',\n",
       "          'ytick.labelsize': 'medium',\n",
       "          'ytick.major.pad': 4.0,\n",
       "          'ytick.major.size': 4.0,\n",
       "          'ytick.major.width': 0.5,\n",
       "          'ytick.minor.pad': 4.0,\n",
       "          'ytick.minor.size': 2.0,\n",
       "          'ytick.minor.visible': False,\n",
       "          'ytick.minor.width': 0.5})"
      ]
     },
     "execution_count": 41,
     "metadata": {},
     "output_type": "execute_result"
    }
   ],
   "source": [
    "matplotlib.rc_params()"
   ]
  },
  {
   "cell_type": "code",
   "execution_count": 42,
   "metadata": {
    "collapsed": false
   },
   "outputs": [
    {
     "data": {
      "text/plain": [
       "'\\n在matplotlib模块载入的时候会调用rc_params，并把得到的配置字典保存到rcParams变量中：\\n'"
      ]
     },
     "execution_count": 42,
     "metadata": {},
     "output_type": "execute_result"
    }
   ],
   "source": [
    "'''\n",
    "在matplotlib模块载入的时候会调用rc_params，并把得到的配置字典保存到rcParams变量中：\n",
    "'''"
   ]
  },
  {
   "cell_type": "code",
   "execution_count": 43,
   "metadata": {
    "collapsed": false
   },
   "outputs": [
    {
     "data": {
      "text/plain": [
       "RcParams({'agg.path.chunksize': 0,\n",
       "          'animation.avconv_args': [],\n",
       "          'animation.avconv_path': 'avconv',\n",
       "          'animation.bitrate': -1,\n",
       "          'animation.codec': 'mpeg4',\n",
       "          'animation.convert_args': [],\n",
       "          'animation.convert_path': 'convert',\n",
       "          'animation.ffmpeg_args': [],\n",
       "          'animation.ffmpeg_path': 'ffmpeg',\n",
       "          'animation.frame_format': 'png',\n",
       "          'animation.html': 'none',\n",
       "          'animation.mencoder_args': [],\n",
       "          'animation.mencoder_path': 'mencoder',\n",
       "          'animation.writer': 'ffmpeg',\n",
       "          'axes.axisbelow': False,\n",
       "          'axes.edgecolor': 'k',\n",
       "          'axes.facecolor': 'w',\n",
       "          'axes.formatter.limits': [-7, 7],\n",
       "          'axes.formatter.use_locale': False,\n",
       "          'axes.formatter.use_mathtext': False,\n",
       "          'axes.formatter.useoffset': True,\n",
       "          'axes.grid': False,\n",
       "          'axes.grid.axis': 'both',\n",
       "          'axes.grid.which': 'major',\n",
       "          'axes.hold': True,\n",
       "          'axes.labelcolor': 'k',\n",
       "          'axes.labelpad': 5.0,\n",
       "          'axes.labelsize': 'medium',\n",
       "          'axes.labelweight': 'normal',\n",
       "          'axes.linewidth': 1.0,\n",
       "          'axes.prop_cycle': cycler('color', ['b', 'g', 'r', 'c', 'm', 'y', 'k']),\n",
       "          'axes.spines.bottom': True,\n",
       "          'axes.spines.left': True,\n",
       "          'axes.spines.right': True,\n",
       "          'axes.spines.top': True,\n",
       "          'axes.titlesize': 'large',\n",
       "          'axes.titleweight': 'normal',\n",
       "          'axes.unicode_minus': True,\n",
       "          'axes.xmargin': 0.0,\n",
       "          'axes.ymargin': 0.0,\n",
       "          'axes3d.grid': True,\n",
       "          'backend': 'MacOSX',\n",
       "          'backend.qt4': 'PyQt4',\n",
       "          'backend.qt5': 'PyQt5',\n",
       "          'backend_fallback': True,\n",
       "          'boxplot.bootstrap': None,\n",
       "          'boxplot.boxprops.color': 'b',\n",
       "          'boxplot.boxprops.linestyle': '-',\n",
       "          'boxplot.boxprops.linewidth': 1.0,\n",
       "          'boxplot.capprops.color': 'k',\n",
       "          'boxplot.capprops.linestyle': '-',\n",
       "          'boxplot.capprops.linewidth': 1.0,\n",
       "          'boxplot.flierprops.color': 'b',\n",
       "          'boxplot.flierprops.linestyle': 'none',\n",
       "          'boxplot.flierprops.linewidth': 1.0,\n",
       "          'boxplot.flierprops.marker': '+',\n",
       "          'boxplot.flierprops.markeredgecolor': 'k',\n",
       "          'boxplot.flierprops.markerfacecolor': 'b',\n",
       "          'boxplot.flierprops.markersize': 6.0,\n",
       "          'boxplot.meanline': False,\n",
       "          'boxplot.meanprops.color': 'r',\n",
       "          'boxplot.meanprops.linestyle': '-',\n",
       "          'boxplot.meanprops.linewidth': 1.0,\n",
       "          'boxplot.medianprops.color': 'r',\n",
       "          'boxplot.medianprops.linestyle': '-',\n",
       "          'boxplot.medianprops.linewidth': 1.0,\n",
       "          'boxplot.notch': False,\n",
       "          'boxplot.patchartist': False,\n",
       "          'boxplot.showbox': True,\n",
       "          'boxplot.showcaps': True,\n",
       "          'boxplot.showfliers': True,\n",
       "          'boxplot.showmeans': False,\n",
       "          'boxplot.vertical': True,\n",
       "          'boxplot.whiskerprops.color': 'b',\n",
       "          'boxplot.whiskerprops.linestyle': '--',\n",
       "          'boxplot.whiskerprops.linewidth': 1.0,\n",
       "          'boxplot.whiskers': 1.5,\n",
       "          'contour.corner_mask': True,\n",
       "          'contour.negative_linestyle': 'dashed',\n",
       "          'datapath': '/Library/Frameworks/Python.framework/Versions/3.5/lib/python3.5/site-packages/matplotlib/mpl-data',\n",
       "          'docstring.hardcopy': False,\n",
       "          'errorbar.capsize': 3.0,\n",
       "          'examples.directory': '',\n",
       "          'figure.autolayout': False,\n",
       "          'figure.dpi': 80.0,\n",
       "          'figure.edgecolor': 'w',\n",
       "          'figure.facecolor': '0.75',\n",
       "          'figure.figsize': [8.0, 6.0],\n",
       "          'figure.frameon': True,\n",
       "          'figure.max_open_warning': 20,\n",
       "          'figure.subplot.bottom': 0.1,\n",
       "          'figure.subplot.hspace': 0.2,\n",
       "          'figure.subplot.left': 0.125,\n",
       "          'figure.subplot.right': 0.9,\n",
       "          'figure.subplot.top': 0.9,\n",
       "          'figure.subplot.wspace': 0.2,\n",
       "          'figure.titlesize': 'medium',\n",
       "          'figure.titleweight': 'normal',\n",
       "          'font.cursive': ['Apple Chancery',\n",
       "                           'Textile',\n",
       "                           'Zapf Chancery',\n",
       "                           'Sand',\n",
       "                           'Script MT',\n",
       "                           'Felipa',\n",
       "                           'cursive'],\n",
       "          'font.family': ['sans-serif'],\n",
       "          'font.fantasy': ['Comic Sans MS',\n",
       "                           'Chicago',\n",
       "                           'Charcoal',\n",
       "                           'ImpactWestern',\n",
       "                           'Humor Sans',\n",
       "                           'fantasy'],\n",
       "          'font.monospace': ['Bitstream Vera Sans Mono',\n",
       "                             'DejaVu Sans Mono',\n",
       "                             'Andale Mono',\n",
       "                             'Nimbus Mono L',\n",
       "                             'Courier New',\n",
       "                             'Courier',\n",
       "                             'Fixed',\n",
       "                             'Terminal',\n",
       "                             'monospace'],\n",
       "          'font.sans-serif': ['Bitstream Vera Sans',\n",
       "                              'DejaVu Sans',\n",
       "                              'Lucida Grande',\n",
       "                              'Verdana',\n",
       "                              'Geneva',\n",
       "                              'Lucid',\n",
       "                              'Arial',\n",
       "                              'Helvetica',\n",
       "                              'Avant Garde',\n",
       "                              'sans-serif'],\n",
       "          'font.serif': ['Bitstream Vera Serif',\n",
       "                         'DejaVu Serif',\n",
       "                         'New Century Schoolbook',\n",
       "                         'Century Schoolbook L',\n",
       "                         'Utopia',\n",
       "                         'ITC Bookman',\n",
       "                         'Bookman',\n",
       "                         'Nimbus Roman No9 L',\n",
       "                         'Times New Roman',\n",
       "                         'Times',\n",
       "                         'Palatino',\n",
       "                         'Charter',\n",
       "                         'serif'],\n",
       "          'font.size': 12.0,\n",
       "          'font.stretch': 'normal',\n",
       "          'font.style': 'normal',\n",
       "          'font.variant': 'normal',\n",
       "          'font.weight': 'normal',\n",
       "          'grid.alpha': 1.0,\n",
       "          'grid.color': 'k',\n",
       "          'grid.linestyle': ':',\n",
       "          'grid.linewidth': 0.5,\n",
       "          'image.aspect': 'equal',\n",
       "          'image.cmap': 'jet',\n",
       "          'image.composite_image': True,\n",
       "          'image.interpolation': 'bilinear',\n",
       "          'image.lut': 256,\n",
       "          'image.origin': 'upper',\n",
       "          'image.resample': False,\n",
       "          'interactive': False,\n",
       "          'keymap.all_axes': ['a'],\n",
       "          'keymap.back': ['left', 'c', 'backspace'],\n",
       "          'keymap.forward': ['right', 'v'],\n",
       "          'keymap.fullscreen': ['f', 'ctrl+f'],\n",
       "          'keymap.grid': ['g'],\n",
       "          'keymap.home': ['h', 'r', 'home'],\n",
       "          'keymap.pan': ['p'],\n",
       "          'keymap.quit': ['ctrl+w', 'cmd+w'],\n",
       "          'keymap.save': ['s', 'ctrl+s'],\n",
       "          'keymap.xscale': ['k', 'L'],\n",
       "          'keymap.yscale': ['l'],\n",
       "          'keymap.zoom': ['o'],\n",
       "          'legend.borderaxespad': 0.5,\n",
       "          'legend.borderpad': 0.4,\n",
       "          'legend.columnspacing': 2.0,\n",
       "          'legend.edgecolor': 'inherit',\n",
       "          'legend.facecolor': 'inherit',\n",
       "          'legend.fancybox': False,\n",
       "          'legend.fontsize': 'large',\n",
       "          'legend.framealpha': None,\n",
       "          'legend.frameon': True,\n",
       "          'legend.handleheight': 0.7,\n",
       "          'legend.handlelength': 2.0,\n",
       "          'legend.handletextpad': 0.8,\n",
       "          'legend.isaxes': True,\n",
       "          'legend.labelspacing': 0.5,\n",
       "          'legend.loc': 'upper right',\n",
       "          'legend.markerscale': 1.0,\n",
       "          'legend.numpoints': 2,\n",
       "          'legend.scatterpoints': 3,\n",
       "          'legend.shadow': False,\n",
       "          'lines.antialiased': True,\n",
       "          'lines.color': 'b',\n",
       "          'lines.dash_capstyle': 'butt',\n",
       "          'lines.dash_joinstyle': 'round',\n",
       "          'lines.linestyle': '-',\n",
       "          'lines.linewidth': 1.0,\n",
       "          'lines.marker': 'None',\n",
       "          'lines.markeredgewidth': 0.5,\n",
       "          'lines.markersize': 6.0,\n",
       "          'lines.solid_capstyle': 'projecting',\n",
       "          'lines.solid_joinstyle': 'round',\n",
       "          'markers.fillstyle': 'full',\n",
       "          'mathtext.bf': 'serif:bold',\n",
       "          'mathtext.cal': 'cursive',\n",
       "          'mathtext.default': 'it',\n",
       "          'mathtext.fallback_to_cm': True,\n",
       "          'mathtext.fontset': 'cm',\n",
       "          'mathtext.it': 'serif:italic',\n",
       "          'mathtext.rm': 'serif',\n",
       "          'mathtext.sf': 'sans\\\\-serif',\n",
       "          'mathtext.tt': 'monospace',\n",
       "          'nbagg.transparent': True,\n",
       "          'patch.antialiased': True,\n",
       "          'patch.edgecolor': 'k',\n",
       "          'patch.facecolor': 'b',\n",
       "          'patch.linewidth': 1.0,\n",
       "          'path.effects': [],\n",
       "          'path.simplify': True,\n",
       "          'path.simplify_threshold': 0.1111111111111111,\n",
       "          'path.sketch': None,\n",
       "          'path.snap': True,\n",
       "          'pdf.compression': 6,\n",
       "          'pdf.fonttype': 3,\n",
       "          'pdf.inheritcolor': False,\n",
       "          'pdf.use14corefonts': False,\n",
       "          'pgf.debug': False,\n",
       "          'pgf.preamble': [],\n",
       "          'pgf.rcfonts': True,\n",
       "          'pgf.texsystem': 'xelatex',\n",
       "          'plugins.directory': '.matplotlib_plugins',\n",
       "          'polaraxes.grid': True,\n",
       "          'ps.distiller.res': 6000,\n",
       "          'ps.fonttype': 3,\n",
       "          'ps.papersize': 'letter',\n",
       "          'ps.useafm': False,\n",
       "          'ps.usedistiller': False,\n",
       "          'savefig.bbox': None,\n",
       "          'savefig.directory': '~',\n",
       "          'savefig.dpi': 100.0,\n",
       "          'savefig.edgecolor': 'w',\n",
       "          'savefig.facecolor': 'w',\n",
       "          'savefig.format': 'png',\n",
       "          'savefig.frameon': True,\n",
       "          'savefig.jpeg_quality': 95,\n",
       "          'savefig.orientation': 'portrait',\n",
       "          'savefig.pad_inches': 0.1,\n",
       "          'savefig.transparent': False,\n",
       "          'svg.fonttype': 'path',\n",
       "          'svg.image_inline': True,\n",
       "          'svg.image_noscale': False,\n",
       "          'text.antialiased': True,\n",
       "          'text.color': 'k',\n",
       "          'text.dvipnghack': None,\n",
       "          'text.hinting': 'auto',\n",
       "          'text.hinting_factor': 8,\n",
       "          'text.latex.preamble': [],\n",
       "          'text.latex.preview': False,\n",
       "          'text.latex.unicode': False,\n",
       "          'text.usetex': False,\n",
       "          'timezone': 'UTC',\n",
       "          'tk.window_focus': False,\n",
       "          'toolbar': 'toolbar2',\n",
       "          'verbose.fileo': 'sys.stdout',\n",
       "          'verbose.level': 'silent',\n",
       "          'webagg.open_in_browser': True,\n",
       "          'webagg.port': 8988,\n",
       "          'webagg.port_retries': 50,\n",
       "          'xtick.color': 'k',\n",
       "          'xtick.direction': 'in',\n",
       "          'xtick.labelsize': 'medium',\n",
       "          'xtick.major.pad': 4.0,\n",
       "          'xtick.major.size': 4.0,\n",
       "          'xtick.major.width': 0.5,\n",
       "          'xtick.minor.pad': 4.0,\n",
       "          'xtick.minor.size': 2.0,\n",
       "          'xtick.minor.visible': False,\n",
       "          'xtick.minor.width': 0.5,\n",
       "          'ytick.color': 'k',\n",
       "          'ytick.direction': 'in',\n",
       "          'ytick.labelsize': 'medium',\n",
       "          'ytick.major.pad': 4.0,\n",
       "          'ytick.major.size': 4.0,\n",
       "          'ytick.major.width': 0.5,\n",
       "          'ytick.minor.pad': 4.0,\n",
       "          'ytick.minor.size': 2.0,\n",
       "          'ytick.minor.visible': False,\n",
       "          'ytick.minor.width': 0.5})"
      ]
     },
     "execution_count": 43,
     "metadata": {},
     "output_type": "execute_result"
    }
   ],
   "source": [
    "matplotlib.rcParams"
   ]
  },
  {
   "cell_type": "code",
   "execution_count": 44,
   "metadata": {
    "collapsed": false
   },
   "outputs": [
    {
     "data": {
      "text/plain": [
       "'\\nmatplotlib将使用rcParams中的配置进行绘图。用户可以直接修改此字典中的配置，所做的改变会反映到此后所绘制的图中。\\n例如下面的脚本所绘制的线将带有圆形的点标识符：\\n\\n\\n'"
      ]
     },
     "execution_count": 44,
     "metadata": {},
     "output_type": "execute_result"
    }
   ],
   "source": [
    "'''\n",
    "matplotlib将使用rcParams中的配置进行绘图。用户可以直接修改此字典中的配置，所做的改变会反映到此后所绘制的图中。\n",
    "例如下面的脚本所绘制的线将带有圆形的点标识符：\n",
    "\n",
    "\n",
    "'''"
   ]
  },
  {
   "cell_type": "code",
   "execution_count": 50,
   "metadata": {
    "collapsed": false
   },
   "outputs": [],
   "source": [
    "matplotlib.rcParams[\"lines.marker\"] = \"o\"\n",
    "import pylab\n",
    "pylab.plot([1,2,3])\n",
    "pylab.show()"
   ]
  },
  {
   "cell_type": "code",
   "execution_count": null,
   "metadata": {
    "collapsed": true
   },
   "outputs": [],
   "source": []
  },
  {
   "cell_type": "code",
   "execution_count": 46,
   "metadata": {
    "collapsed": false
   },
   "outputs": [
    {
     "data": {
      "text/plain": [
       "'\\n为了方便配置，可以使用rc函数，下面的例子同时配置点标识符、线宽和颜色：\\n\\n如果希望恢复到缺省的配置(matplotlib载入时从配置文件读入的配置)的话，可以调用 rcdefaults 函数。\\n\\n>>> matplotlib.rcdefaults()\\n如果手工修改了配置文件，希望重新从配置文件载入最新的配置的话，可以调用：\\n\\n>>> matplotlib.rcParams.update( matplotlib.rc_params() )\\n'"
      ]
     },
     "execution_count": 46,
     "metadata": {},
     "output_type": "execute_result"
    }
   ],
   "source": [
    "'''\n",
    "为了方便配置，可以使用rc函数，下面的例子同时配置点标识符、线宽和颜色：\n",
    "\n",
    "\n",
    "'''"
   ]
  },
  {
   "cell_type": "code",
   "execution_count": 51,
   "metadata": {
    "collapsed": true
   },
   "outputs": [],
   "source": [
    "matplotlib.rc(\"lines\", marker=\"x\", linewidth=2, color=\"red\")"
   ]
  },
  {
   "cell_type": "code",
   "execution_count": 52,
   "metadata": {
    "collapsed": true
   },
   "outputs": [],
   "source": [
    "'''\n",
    "如果希望恢复到缺省的配置(matplotlib载入时从配置文件读入的配置)的话，可以调用 rcdefaults 函数。\n",
    "'''\n",
    "matplotlib.rcdefaults()"
   ]
  },
  {
   "cell_type": "code",
   "execution_count": 53,
   "metadata": {
    "collapsed": true
   },
   "outputs": [],
   "source": [
    "'''\n",
    "如果手工修改了配置文件，希望重新从配置文件载入最新的配置的话，可以调用：\n",
    "'''\n",
    "matplotlib.rcParams.update( matplotlib.rc_params() )"
   ]
  },
  {
   "cell_type": "code",
   "execution_count": null,
   "metadata": {
    "collapsed": true
   },
   "outputs": [],
   "source": []
  }
 ],
 "metadata": {
  "kernelspec": {
   "display_name": "Python 3",
   "language": "python",
   "name": "python3"
  },
  "language_info": {
   "codemirror_mode": {
    "name": "ipython",
    "version": 3
   },
   "file_extension": ".py",
   "mimetype": "text/x-python",
   "name": "python",
   "nbconvert_exporter": "python",
   "pygments_lexer": "ipython3",
   "version": "3.5.0"
  }
 },
 "nbformat": 4,
 "nbformat_minor": 0
}
