{
 "cells": [
  {
   "cell_type": "code",
   "execution_count": 1,
   "metadata": {
    "collapsed": false
   },
   "outputs": [],
   "source": [
    "%matplotlib inline\n",
    "from pandas import DataFrame,Series\n",
    "import pandas as pd\n",
    "import numpy as np\n",
    "import sys\n",
    "import csv\n",
    "import json\n",
    "import requests\n",
    "import lxml\n",
    "from lxml.html import parse"
   ]
  },
  {
   "cell_type": "code",
   "execution_count": 2,
   "metadata": {
    "collapsed": false
   },
   "outputs": [
    {
     "data": {
      "text/html": [
       "<div>\n",
       "<table border=\"1\" class=\"dataframe\">\n",
       "  <thead>\n",
       "    <tr style=\"text-align: right;\">\n",
       "      <th></th>\n",
       "      <th>something</th>\n",
       "      <th>a</th>\n",
       "      <th>b</th>\n",
       "      <th>c</th>\n",
       "      <th>d</th>\n",
       "      <th>message</th>\n",
       "    </tr>\n",
       "  </thead>\n",
       "  <tbody>\n",
       "    <tr>\n",
       "      <th>0</th>\n",
       "      <td>one</td>\n",
       "      <td>1</td>\n",
       "      <td>2</td>\n",
       "      <td>3</td>\n",
       "      <td>4</td>\n",
       "      <td>NaN</td>\n",
       "    </tr>\n",
       "    <tr>\n",
       "      <th>1</th>\n",
       "      <td>two</td>\n",
       "      <td>5</td>\n",
       "      <td>6</td>\n",
       "      <td>NaN</td>\n",
       "      <td>8</td>\n",
       "      <td>world</td>\n",
       "    </tr>\n",
       "    <tr>\n",
       "      <th>2</th>\n",
       "      <td>three</td>\n",
       "      <td>9</td>\n",
       "      <td>10</td>\n",
       "      <td>11</td>\n",
       "      <td>12</td>\n",
       "      <td>foo</td>\n",
       "    </tr>\n",
       "  </tbody>\n",
       "</table>\n",
       "</div>"
      ],
      "text/plain": [
       "  something  a   b   c   d message\n",
       "0       one  1   2   3   4     NaN\n",
       "1       two  5   6 NaN   8   world\n",
       "2     three  9  10  11  12     foo"
      ]
     },
     "execution_count": 2,
     "metadata": {},
     "output_type": "execute_result"
    }
   ],
   "source": [
    "data = pd.read_csv('ex5.csv')\n",
    "data"
   ]
  },
  {
   "cell_type": "code",
   "execution_count": 3,
   "metadata": {
    "collapsed": true
   },
   "outputs": [],
   "source": [
    "data.to_csv('ex5_n.csv')"
   ]
  },
  {
   "cell_type": "code",
   "execution_count": 4,
   "metadata": {
    "collapsed": false
   },
   "outputs": [
    {
     "name": "stdout",
     "output_type": "stream",
     "text": [
      "01_read_csv|read_table.ipynb ex5_|.csv\r\n",
      "02_to_csv|to_txt.ipynb       ex6.csv\r\n",
      "csv_mindex.csv               ex7.csv\r\n",
      "ex1.csv                      frame_pickle\r\n",
      "ex2.csv                      mydata.csv\r\n",
      "ex3.csv                      out.csv\r\n",
      "ex3.txt                      slib.txt\r\n",
      "ex4.csv                      test_file.csv\r\n",
      "ex5.csv                      tseries.csv\r\n",
      "ex5_n.csv                    tsseries.csv\r\n"
     ]
    }
   ],
   "source": [
    "!ls"
   ]
  },
  {
   "cell_type": "code",
   "execution_count": 5,
   "metadata": {
    "collapsed": false
   },
   "outputs": [
    {
     "name": "stdout",
     "output_type": "stream",
     "text": [
      "something,a,b,c,d,message\n",
      "one,1,2,3,4,NA\n",
      "two,5,6,,8,world\n",
      "three,9,10,11,12,foo\n",
      "---------\n",
      ",something,a,b,c,d,message\n",
      "0,one,1,2,3.0,4,\n",
      "1,two,5,6,,8,world\n",
      "2,three,9,10,11.0,12,foo\n"
     ]
    }
   ],
   "source": [
    "!cat ex5.csv\n",
    "!echo '\\n---------'\n",
    "!cat ex5_n.csv"
   ]
  },
  {
   "cell_type": "code",
   "execution_count": 6,
   "metadata": {
    "collapsed": true
   },
   "outputs": [],
   "source": [
    "data.to_csv('ex5_|.csv',sep='|')"
   ]
  },
  {
   "cell_type": "code",
   "execution_count": 7,
   "metadata": {
    "collapsed": false
   },
   "outputs": [
    {
     "name": "stdout",
     "output_type": "stream",
     "text": [
      "|something|a|b|c|d|message\r\n",
      "0|one|1|2|3.0|4|\r\n",
      "1|two|5|6||8|world\r\n",
      "2|three|9|10|11.0|12|foo\r\n"
     ]
    }
   ],
   "source": [
    "!cat 'ex5_|.csv'"
   ]
  },
  {
   "cell_type": "code",
   "execution_count": 8,
   "metadata": {
    "collapsed": false
   },
   "outputs": [
    {
     "name": "stdout",
     "output_type": "stream",
     "text": [
      ",something,a,b,c,d,message\n",
      "0,one,1,2,3.0,4,NULL\n",
      "1,two,5,6,NULL,8,world\n",
      "2,three,9,10,11.0,12,foo\n"
     ]
    }
   ],
   "source": [
    "data.to_csv(sys.stdout,na_rep='NULL')"
   ]
  },
  {
   "cell_type": "code",
   "execution_count": 9,
   "metadata": {
    "collapsed": false
   },
   "outputs": [
    {
     "name": "stdout",
     "output_type": "stream",
     "text": [
      "one,1,2,3.0,4,\n",
      "two,5,6,,8,world\n",
      "three,9,10,11.0,12,foo\n"
     ]
    }
   ],
   "source": [
    "data.to_csv(sys.stdout,index=False,header=False)"
   ]
  },
  {
   "cell_type": "code",
   "execution_count": 10,
   "metadata": {
    "collapsed": false
   },
   "outputs": [
    {
     "name": "stdout",
     "output_type": "stream",
     "text": [
      "a,b,c\n",
      "1,2,3.0\n",
      "5,6,\n",
      "9,10,11.0\n"
     ]
    }
   ],
   "source": [
    "data.to_csv(sys.stdout,index=False,columns=['a','b','c'])"
   ]
  },
  {
   "cell_type": "code",
   "execution_count": 11,
   "metadata": {
    "collapsed": false
   },
   "outputs": [
    {
     "name": "stdout",
     "output_type": "stream",
     "text": [
      "a,c,d\n",
      "1,3.0,4\n",
      "5,,8\n",
      "9,11.0,12\n"
     ]
    }
   ],
   "source": [
    "data.to_csv(sys.stdout,index=False,columns=list('acd'))"
   ]
  },
  {
   "cell_type": "code",
   "execution_count": 12,
   "metadata": {
    "collapsed": false
   },
   "outputs": [
    {
     "data": {
      "text/plain": [
       "DatetimeIndex(['2016-01-01', '2016-01-02', '2016-01-03', '2016-01-04',\n",
       "               '2016-01-05', '2016-01-06', '2016-01-07'],\n",
       "              dtype='datetime64[ns]', freq='D')"
      ]
     },
     "execution_count": 12,
     "metadata": {},
     "output_type": "execute_result"
    }
   ],
   "source": [
    "dates = pd.date_range('1/1/2016 00:00:000',periods=7)\n",
    "dates"
   ]
  },
  {
   "cell_type": "code",
   "execution_count": 13,
   "metadata": {
    "collapsed": false
   },
   "outputs": [
    {
     "data": {
      "text/plain": [
       "2016-01-01    0\n",
       "2016-01-02    1\n",
       "2016-01-03    2\n",
       "2016-01-04    3\n",
       "2016-01-05    4\n",
       "2016-01-06    5\n",
       "2016-01-07    6\n",
       "Freq: D, dtype: int64"
      ]
     },
     "execution_count": 13,
     "metadata": {},
     "output_type": "execute_result"
    }
   ],
   "source": [
    "ts = Series(np.arange(7),index=dates)\n",
    "ts"
   ]
  },
  {
   "cell_type": "code",
   "execution_count": 14,
   "metadata": {
    "collapsed": true
   },
   "outputs": [],
   "source": [
    "ts.to_csv('tsseries.csv')"
   ]
  },
  {
   "cell_type": "code",
   "execution_count": 15,
   "metadata": {
    "collapsed": false
   },
   "outputs": [
    {
     "name": "stdout",
     "output_type": "stream",
     "text": [
      "2016-01-01,0\r\n",
      "2016-01-02,1\r\n",
      "2016-01-03,2\r\n",
      "2016-01-04,3\r\n",
      "2016-01-05,4\r\n",
      "2016-01-06,5\r\n",
      "2016-01-07,6\r\n"
     ]
    }
   ],
   "source": [
    "!cat tsseries.csv"
   ]
  },
  {
   "cell_type": "code",
   "execution_count": 16,
   "metadata": {
    "collapsed": false
   },
   "outputs": [
    {
     "name": "stdout",
     "output_type": "stream",
     "text": [
      "2016-01-01|0\r\n",
      "2016-01-02|1\r\n",
      "2016-01-03|2\r\n",
      "2016-01-04|3\r\n",
      "2016-01-05|4\r\n",
      "2016-01-06|5\r\n",
      "2016-01-07|6\r\n"
     ]
    }
   ],
   "source": [
    "ts.to_csv('tsseries.csv',sep='|')\n",
    "!cat tsseries.csv"
   ]
  },
  {
   "cell_type": "code",
   "execution_count": 17,
   "metadata": {
    "collapsed": false
   },
   "outputs": [
    {
     "data": {
      "text/plain": [
       "2016-01-01    0\n",
       "2016-01-02    1\n",
       "2016-01-03    2\n",
       "2016-01-04    3\n",
       "2016-01-05    4\n",
       "2016-01-06    5\n",
       "2016-01-07    6\n",
       "dtype: int64"
      ]
     },
     "execution_count": 17,
     "metadata": {},
     "output_type": "execute_result"
    }
   ],
   "source": [
    "Series.from_csv('tsseries.csv',sep='|',parse_dates=True)"
   ]
  },
  {
   "cell_type": "code",
   "execution_count": 18,
   "metadata": {
    "collapsed": true
   },
   "outputs": [],
   "source": [
    "# 手工处理分隔符格式"
   ]
  },
  {
   "cell_type": "code",
   "execution_count": 19,
   "metadata": {
    "collapsed": false
   },
   "outputs": [
    {
     "name": "stdout",
     "output_type": "stream",
     "text": [
      "\"a\",\"b\",\"c\"\r\n",
      "\"1\",\"2\",\"3\"\r\n",
      "\"1\",\"2\",\"3\",\"4\"\r\n"
     ]
    }
   ],
   "source": [
    "!cat ex7.csv"
   ]
  },
  {
   "cell_type": "code",
   "execution_count": 20,
   "metadata": {
    "collapsed": false
   },
   "outputs": [
    {
     "data": {
      "text/plain": [
       "<_csv.reader at 0x108beb278>"
      ]
     },
     "execution_count": 20,
     "metadata": {},
     "output_type": "execute_result"
    }
   ],
   "source": [
    "f = open('ex7.csv')\n",
    "reader = csv.reader(f)\n",
    "reader"
   ]
  },
  {
   "cell_type": "code",
   "execution_count": 21,
   "metadata": {
    "collapsed": false
   },
   "outputs": [
    {
     "name": "stdout",
     "output_type": "stream",
     "text": [
      "['a', 'b', 'c']\n",
      "['1', '2', '3']\n",
      "['1', '2', '3', '4']\n"
     ]
    }
   ],
   "source": [
    "for line in reader:\n",
    "    print(line)"
   ]
  },
  {
   "cell_type": "code",
   "execution_count": 22,
   "metadata": {
    "collapsed": false
   },
   "outputs": [
    {
     "data": {
      "text/plain": [
       "[['a', 'b', 'c'], ['1', '2', '3'], ['1', '2', '3', '4']]"
      ]
     },
     "execution_count": 22,
     "metadata": {},
     "output_type": "execute_result"
    }
   ],
   "source": [
    "lines = list(csv.reader(open('ex7.csv')))\n",
    "lines"
   ]
  },
  {
   "cell_type": "code",
   "execution_count": 23,
   "metadata": {
    "collapsed": false
   },
   "outputs": [
    {
     "data": {
      "text/plain": [
       "['a', 'b', 'c']"
      ]
     },
     "execution_count": 23,
     "metadata": {},
     "output_type": "execute_result"
    }
   ],
   "source": [
    "header,values = lines[0],lines[1:]\n",
    "header\n"
   ]
  },
  {
   "cell_type": "code",
   "execution_count": 24,
   "metadata": {
    "collapsed": false
   },
   "outputs": [
    {
     "data": {
      "text/plain": [
       "[['1', '2', '3'], ['1', '2', '3', '4']]"
      ]
     },
     "execution_count": 24,
     "metadata": {},
     "output_type": "execute_result"
    }
   ],
   "source": [
    "values\n"
   ]
  },
  {
   "cell_type": "code",
   "execution_count": 25,
   "metadata": {
    "collapsed": false
   },
   "outputs": [
    {
     "data": {
      "text/plain": [
       "{'a': ('1', '1'), 'b': ('2', '2'), 'c': ('3', '3')}"
      ]
     },
     "execution_count": 25,
     "metadata": {},
     "output_type": "execute_result"
    }
   ],
   "source": [
    "data_dict = {h: v for h,v in zip(header,zip(*values))}\n",
    "data_dict"
   ]
  },
  {
   "cell_type": "code",
   "execution_count": 26,
   "metadata": {
    "collapsed": false
   },
   "outputs": [
    {
     "data": {
      "text/plain": [
       "<_csv.reader at 0x108beb588>"
      ]
     },
     "execution_count": 26,
     "metadata": {},
     "output_type": "execute_result"
    }
   ],
   "source": [
    "class my_dialect(csv.Dialect):\n",
    "    lineterminator = '\\n'\n",
    "    delimiter = ';'\n",
    "    quotechar = '\"'\n",
    "    quoting = csv.QUOTE_MINIMAL\n",
    "reader = csv.reader(f,dialect=my_dialect)\n",
    "reader"
   ]
  },
  {
   "cell_type": "code",
   "execution_count": 27,
   "metadata": {
    "collapsed": false
   },
   "outputs": [
    {
     "data": {
      "text/plain": [
       "<_csv.reader at 0x108beb5f8>"
      ]
     },
     "execution_count": 27,
     "metadata": {},
     "output_type": "execute_result"
    }
   ],
   "source": [
    "reader = csv.reader(f,delimiter='|')\n",
    "reader"
   ]
  },
  {
   "cell_type": "code",
   "execution_count": 28,
   "metadata": {
    "collapsed": true
   },
   "outputs": [],
   "source": [
    "# CSV 语支选项"
   ]
  },
  {
   "cell_type": "code",
   "execution_count": 29,
   "metadata": {
    "collapsed": false
   },
   "outputs": [
    {
     "data": {
      "text/plain": [
       "'\\ndelimiter  分隔字段的单子符字符串 默认为 \\',\\'\\nlineterminator 用于写操作的行分隔符 默认为 \\'\\r\\n\\',能够识别跨平台的行结束符\\nquotechar 用于带有特殊字符(如分隔符)的字段的引用符号，默认为\\'\"\\'\\nquoting 引用约定。可选值包括  csv.QUOTE_ALL(引用所有字段),csv.QUOTE_MINIMAL(只引用带有分隔符之类的特殊字段)\\nskipinitialspace  忽略分隔符后面的空白符\\ndoublequote 如何让处理该字段内的引用符号。True 双写\\nescapechar 对于分隔符进行转义的字符串\\n\\n'"
      ]
     },
     "execution_count": 29,
     "metadata": {},
     "output_type": "execute_result"
    }
   ],
   "source": [
    "'''\n",
    "delimiter  分隔字段的单子符字符串 默认为 ','\n",
    "lineterminator 用于写操作的行分隔符 默认为 '\\r\\n',能够识别跨平台的行结束符\n",
    "quotechar 用于带有特殊字符(如分隔符)的字段的引用符号，默认为'\"'\n",
    "quoting 引用约定。可选值包括  csv.QUOTE_ALL(引用所有字段),csv.QUOTE_MINIMAL(只引用带有分隔符之类的特殊字段)\n",
    "skipinitialspace  忽略分隔符后面的空白符\n",
    "doublequote 如何让处理该字段内的引用符号。True 双写\n",
    "escapechar 对于分隔符进行转义的字符串\n",
    "\n",
    "'''"
   ]
  },
  {
   "cell_type": "code",
   "execution_count": 30,
   "metadata": {
    "collapsed": false
   },
   "outputs": [
    {
     "name": "stdout",
     "output_type": "stream",
     "text": [
      "01_read_csv|read_table.ipynb ex5_|.csv\r\n",
      "02_to_csv|to_txt.ipynb       ex6.csv\r\n",
      "csv_mindex.csv               ex7.csv\r\n",
      "ex1.csv                      frame_pickle\r\n",
      "ex2.csv                      mydata.csv\r\n",
      "ex3.csv                      out.csv\r\n",
      "ex3.txt                      slib.txt\r\n",
      "ex4.csv                      test_file.csv\r\n",
      "ex5.csv                      tseries.csv\r\n",
      "ex5_n.csv                    tsseries.csv\r\n"
     ]
    }
   ],
   "source": [
    "!ls"
   ]
  },
  {
   "cell_type": "code",
   "execution_count": 31,
   "metadata": {
    "collapsed": false
   },
   "outputs": [
    {
     "name": "stdout",
     "output_type": "stream",
     "text": [
      "one;two;three\r\n",
      "1;2;3\r\n",
      "6;5;4\r\n",
      "7;8;9\r\n"
     ]
    }
   ],
   "source": [
    "# !touch mydata.csv\n",
    "with open('mydata.csv','w') as f :\n",
    "    writer = csv.writer(f,dialect=my_dialect)\n",
    "    writer.writerow(('one','two','three'))\n",
    "    writer.writerow(('1','2','3'))\n",
    "    writer.writerow(('6','5','4'))\n",
    "    writer.writerow(('7','8','9'))\n",
    "    \n",
    "!cat mydata.csv"
   ]
  },
  {
   "cell_type": "code",
   "execution_count": 32,
   "metadata": {
    "collapsed": true
   },
   "outputs": [],
   "source": [
    "# JSON 数据"
   ]
  },
  {
   "cell_type": "code",
   "execution_count": 33,
   "metadata": {
    "collapsed": false
   },
   "outputs": [
    {
     "data": {
      "text/plain": [
       "'{\"pet\": null, \"place_lived\": [\"Beijing\", \"Shanghai\", \"Xian\"], \"silbings\": [{\"age\": 24, \"pet\": \"Zuko\", \"name\": \"Scott\"}, {\"age\": 20, \"pet\": \"Cisco\", \"name\": \"Katie\"}], \"name\": \"Wes\"}'"
      ]
     },
     "execution_count": 33,
     "metadata": {},
     "output_type": "execute_result"
    }
   ],
   "source": [
    "obj = {}\n",
    "obj['name'] = 'Wes'\n",
    "obj['place_lived'] = ['Beijing','Shanghai','Xian']\n",
    "obj['pet'] = None\n",
    "obj['silbings'] = [{'name':'Scott','age':24,'pet':'Zuko'},{'name':'Katie','age':20,'pet':'Cisco'}]\n",
    "objs = json.dumps(obj)\n",
    "objs"
   ]
  },
  {
   "cell_type": "code",
   "execution_count": 34,
   "metadata": {
    "collapsed": false
   },
   "outputs": [
    {
     "data": {
      "text/plain": [
       "{'name': 'Wes',\n",
       " 'pet': None,\n",
       " 'place_lived': ['Beijing', 'Shanghai', 'Xian'],\n",
       " 'silbings': [{'age': 24, 'name': 'Scott', 'pet': 'Zuko'},\n",
       "  {'age': 20, 'name': 'Katie', 'pet': 'Cisco'}]}"
      ]
     },
     "execution_count": 34,
     "metadata": {},
     "output_type": "execute_result"
    }
   ],
   "source": [
    "result = json.loads(objs)\n",
    "result"
   ]
  },
  {
   "cell_type": "code",
   "execution_count": 35,
   "metadata": {
    "collapsed": false
   },
   "outputs": [
    {
     "data": {
      "text/html": [
       "<div>\n",
       "<table border=\"1\" class=\"dataframe\">\n",
       "  <thead>\n",
       "    <tr style=\"text-align: right;\">\n",
       "      <th></th>\n",
       "      <th>name</th>\n",
       "      <th>age</th>\n",
       "    </tr>\n",
       "  </thead>\n",
       "  <tbody>\n",
       "    <tr>\n",
       "      <th>0</th>\n",
       "      <td>Scott</td>\n",
       "      <td>24</td>\n",
       "    </tr>\n",
       "    <tr>\n",
       "      <th>1</th>\n",
       "      <td>Katie</td>\n",
       "      <td>20</td>\n",
       "    </tr>\n",
       "  </tbody>\n",
       "</table>\n",
       "</div>"
      ],
      "text/plain": [
       "    name  age\n",
       "0  Scott   24\n",
       "1  Katie   20"
      ]
     },
     "execution_count": 35,
     "metadata": {},
     "output_type": "execute_result"
    }
   ],
   "source": [
    "silbings = DataFrame(result['silbings'],columns=['name','age'])\n",
    "silbings"
   ]
  },
  {
   "cell_type": "code",
   "execution_count": 36,
   "metadata": {
    "collapsed": false
   },
   "outputs": [],
   "source": [
    "silbings.to_json('slib.txt')"
   ]
  },
  {
   "cell_type": "code",
   "execution_count": 37,
   "metadata": {
    "collapsed": false
   },
   "outputs": [
    {
     "name": "stdout",
     "output_type": "stream",
     "text": [
      "{\"name\":{\"0\":\"Scott\",\"1\":\"Katie\"},\"age\":{\"0\":24,\"1\":20}}"
     ]
    }
   ],
   "source": [
    "!cat slib.txt"
   ]
  },
  {
   "cell_type": "code",
   "execution_count": 38,
   "metadata": {
    "collapsed": false
   },
   "outputs": [
    {
     "data": {
      "text/html": [
       "<div>\n",
       "<table border=\"1\" class=\"dataframe\">\n",
       "  <thead>\n",
       "    <tr style=\"text-align: right;\">\n",
       "      <th></th>\n",
       "      <th>age</th>\n",
       "      <th>name</th>\n",
       "    </tr>\n",
       "  </thead>\n",
       "  <tbody>\n",
       "    <tr>\n",
       "      <th>0</th>\n",
       "      <td>24</td>\n",
       "      <td>Scott</td>\n",
       "    </tr>\n",
       "    <tr>\n",
       "      <th>1</th>\n",
       "      <td>20</td>\n",
       "      <td>Katie</td>\n",
       "    </tr>\n",
       "  </tbody>\n",
       "</table>\n",
       "</div>"
      ],
      "text/plain": [
       "   age   name\n",
       "0   24  Scott\n",
       "1   20  Katie"
      ]
     },
     "execution_count": 38,
     "metadata": {},
     "output_type": "execute_result"
    }
   ],
   "source": [
    "slib = pd.read_json('slib.txt')\n",
    "slib"
   ]
  },
  {
   "cell_type": "code",
   "execution_count": 39,
   "metadata": {
    "collapsed": false
   },
   "outputs": [
    {
     "data": {
      "text/plain": [
       "'\\nhtml xhtml web 信息收集  http://lxml.de \\n\\n'"
      ]
     },
     "execution_count": 39,
     "metadata": {},
     "output_type": "execute_result"
    }
   ],
   "source": [
    "'''\n",
    "html xhtml web 信息收集  http://lxml.de \n",
    "\n",
    "'''"
   ]
  },
  {
   "cell_type": "code",
   "execution_count": 40,
   "metadata": {
    "collapsed": false
   },
   "outputs": [],
   "source": [
    "# r = requests.get(r'http://finance.yahoo.com/q/op?s=AAPL+Options')\n",
    "# if r.status_code != 200 :\n",
    "#     print(r.status_code)\n",
    "#     sys.exit(0)\n",
    "\n",
    "# text = r.text\n",
    "# text\n"
   ]
  },
  {
   "cell_type": "code",
   "execution_count": 41,
   "metadata": {
    "collapsed": false
   },
   "outputs": [],
   "source": [
    "# parsed = parse(text)"
   ]
  },
  {
   "cell_type": "code",
   "execution_count": 42,
   "metadata": {
    "collapsed": true
   },
   "outputs": [],
   "source": [
    "# 二进制数据格式"
   ]
  },
  {
   "cell_type": "code",
   "execution_count": 43,
   "metadata": {
    "collapsed": false
   },
   "outputs": [
    {
     "data": {
      "text/html": [
       "<div>\n",
       "<table border=\"1\" class=\"dataframe\">\n",
       "  <thead>\n",
       "    <tr style=\"text-align: right;\">\n",
       "      <th></th>\n",
       "      <th>a</th>\n",
       "      <th>b</th>\n",
       "      <th>c</th>\n",
       "      <th>d</th>\n",
       "      <th>message</th>\n",
       "    </tr>\n",
       "  </thead>\n",
       "  <tbody>\n",
       "    <tr>\n",
       "      <th>0</th>\n",
       "      <td>1</td>\n",
       "      <td>2</td>\n",
       "      <td>3</td>\n",
       "      <td>4</td>\n",
       "      <td>hello</td>\n",
       "    </tr>\n",
       "    <tr>\n",
       "      <th>1</th>\n",
       "      <td>5</td>\n",
       "      <td>6</td>\n",
       "      <td>7</td>\n",
       "      <td>8</td>\n",
       "      <td>world</td>\n",
       "    </tr>\n",
       "    <tr>\n",
       "      <th>2</th>\n",
       "      <td>9</td>\n",
       "      <td>10</td>\n",
       "      <td>11</td>\n",
       "      <td>12</td>\n",
       "      <td>foo</td>\n",
       "    </tr>\n",
       "  </tbody>\n",
       "</table>\n",
       "</div>"
      ],
      "text/plain": [
       "   a   b   c   d message\n",
       "0  1   2   3   4   hello\n",
       "1  5   6   7   8   world\n",
       "2  9  10  11  12     foo"
      ]
     },
     "execution_count": 43,
     "metadata": {},
     "output_type": "execute_result"
    }
   ],
   "source": [
    "frame = pd.read_csv('ex1.csv')\n",
    "frame"
   ]
  },
  {
   "cell_type": "code",
   "execution_count": 44,
   "metadata": {
    "collapsed": false
   },
   "outputs": [],
   "source": [
    "# frame.save('frame_pickle')"
   ]
  },
  {
   "cell_type": "code",
   "execution_count": 45,
   "metadata": {
    "collapsed": false
   },
   "outputs": [],
   "source": [
    "frame.to_pickle(\"frame_pickle\")"
   ]
  },
  {
   "cell_type": "code",
   "execution_count": 46,
   "metadata": {
    "collapsed": false
   },
   "outputs": [
    {
     "data": {
      "text/html": [
       "<div>\n",
       "<table border=\"1\" class=\"dataframe\">\n",
       "  <thead>\n",
       "    <tr style=\"text-align: right;\">\n",
       "      <th></th>\n",
       "      <th>a</th>\n",
       "      <th>b</th>\n",
       "      <th>c</th>\n",
       "      <th>d</th>\n",
       "      <th>message</th>\n",
       "    </tr>\n",
       "  </thead>\n",
       "  <tbody>\n",
       "    <tr>\n",
       "      <th>0</th>\n",
       "      <td>1</td>\n",
       "      <td>2</td>\n",
       "      <td>3</td>\n",
       "      <td>4</td>\n",
       "      <td>hello</td>\n",
       "    </tr>\n",
       "    <tr>\n",
       "      <th>1</th>\n",
       "      <td>5</td>\n",
       "      <td>6</td>\n",
       "      <td>7</td>\n",
       "      <td>8</td>\n",
       "      <td>world</td>\n",
       "    </tr>\n",
       "    <tr>\n",
       "      <th>2</th>\n",
       "      <td>9</td>\n",
       "      <td>10</td>\n",
       "      <td>11</td>\n",
       "      <td>12</td>\n",
       "      <td>foo</td>\n",
       "    </tr>\n",
       "  </tbody>\n",
       "</table>\n",
       "</div>"
      ],
      "text/plain": [
       "   a   b   c   d message\n",
       "0  1   2   3   4   hello\n",
       "1  5   6   7   8   world\n",
       "2  9  10  11  12     foo"
      ]
     },
     "execution_count": 46,
     "metadata": {},
     "output_type": "execute_result"
    }
   ],
   "source": [
    "pd.read_pickle('frame_pickle')"
   ]
  },
  {
   "cell_type": "code",
   "execution_count": 47,
   "metadata": {
    "collapsed": false
   },
   "outputs": [
    {
     "data": {
      "text/plain": [
       "'\\nHDF5\\nPyTables   http://www.pytables.org/   sudo easy_install-3.5 tables  \\nh5py   http://www.h5py.org/   \\n\\n'"
      ]
     },
     "execution_count": 47,
     "metadata": {},
     "output_type": "execute_result"
    }
   ],
   "source": [
    "'''\n",
    "HDF5\n",
    "PyTables   http://www.pytables.org/   sudo easy_install-3.5 tables  \n",
    "h5py   http://www.h5py.org/   \n",
    "\n",
    "'''\n"
   ]
  },
  {
   "cell_type": "code",
   "execution_count": 48,
   "metadata": {
    "collapsed": false
   },
   "outputs": [],
   "source": [
    "\n",
    "# store = pd.HDFStore('mydata.h5')\n",
    "# store['obj1'] = frame\n",
    "# store['obj1_col'] = frame['a']\n",
    "# store"
   ]
  },
  {
   "cell_type": "code",
   "execution_count": 49,
   "metadata": {
    "collapsed": true
   },
   "outputs": [],
   "source": [
    "#  使用数据库"
   ]
  },
  {
   "cell_type": "code",
   "execution_count": 50,
   "metadata": {
    "collapsed": true
   },
   "outputs": [],
   "source": [
    "import sqlite3"
   ]
  },
  {
   "cell_type": "code",
   "execution_count": 51,
   "metadata": {
    "collapsed": true
   },
   "outputs": [],
   "source": [
    "query = '''\n",
    "CREATE TABLE test(\n",
    "    a VARCHAR(20),b VARCHAR(20),c REAL,d INTEGER\n",
    ");\n",
    "'''\n",
    "con = sqlite3.connect(':memory:')\n",
    "con.execute(query)\n",
    "con.commit()"
   ]
  },
  {
   "cell_type": "code",
   "execution_count": 52,
   "metadata": {
    "collapsed": false
   },
   "outputs": [],
   "source": [
    "data = [('Beijing','Beijing',1.23,45),('Xian','ShannXi',2.34,56)]\n",
    "stmt = 'INSERT INTO test VALUES(?,?,?,?)'\n",
    "con.executemany(stmt,data)\n",
    "con.commit()"
   ]
  },
  {
   "cell_type": "code",
   "execution_count": 53,
   "metadata": {
    "collapsed": false
   },
   "outputs": [
    {
     "data": {
      "text/plain": [
       "[('Beijing', 'Beijing', 1.23, 45), ('Xian', 'ShannXi', 2.34, 56)]"
      ]
     },
     "execution_count": 53,
     "metadata": {},
     "output_type": "execute_result"
    }
   ],
   "source": [
    "cursor = con.execute('select * from test')\n",
    "rows = cursor.fetchall()\n",
    "rows"
   ]
  },
  {
   "cell_type": "code",
   "execution_count": 54,
   "metadata": {
    "collapsed": false
   },
   "outputs": [
    {
     "data": {
      "text/plain": [
       "(('a', None, None, None, None, None, None),\n",
       " ('b', None, None, None, None, None, None),\n",
       " ('c', None, None, None, None, None, None),\n",
       " ('d', None, None, None, None, None, None))"
      ]
     },
     "execution_count": 54,
     "metadata": {},
     "output_type": "execute_result"
    }
   ],
   "source": [
    "cursor.description"
   ]
  },
  {
   "cell_type": "code",
   "execution_count": 55,
   "metadata": {
    "collapsed": false
   },
   "outputs": [
    {
     "data": {
      "text/plain": [
       "('a', 'b', 'c', 'd')"
      ]
     },
     "execution_count": 55,
     "metadata": {},
     "output_type": "execute_result"
    }
   ],
   "source": [
    "z = zip(*cursor.description)\n",
    "list(z)[0]"
   ]
  },
  {
   "cell_type": "code",
   "execution_count": 56,
   "metadata": {
    "collapsed": false
   },
   "outputs": [
    {
     "data": {
      "text/html": [
       "<div>\n",
       "<table border=\"1\" class=\"dataframe\">\n",
       "  <thead>\n",
       "    <tr style=\"text-align: right;\">\n",
       "      <th></th>\n",
       "      <th>a</th>\n",
       "      <th>b</th>\n",
       "      <th>c</th>\n",
       "      <th>d</th>\n",
       "    </tr>\n",
       "  </thead>\n",
       "  <tbody>\n",
       "    <tr>\n",
       "      <th>0</th>\n",
       "      <td>Beijing</td>\n",
       "      <td>Beijing</td>\n",
       "      <td>1.23</td>\n",
       "      <td>45</td>\n",
       "    </tr>\n",
       "    <tr>\n",
       "      <th>1</th>\n",
       "      <td>Xian</td>\n",
       "      <td>ShannXi</td>\n",
       "      <td>2.34</td>\n",
       "      <td>56</td>\n",
       "    </tr>\n",
       "  </tbody>\n",
       "</table>\n",
       "</div>"
      ],
      "text/plain": [
       "         a        b     c   d\n",
       "0  Beijing  Beijing  1.23  45\n",
       "1     Xian  ShannXi  2.34  56"
      ]
     },
     "execution_count": 56,
     "metadata": {},
     "output_type": "execute_result"
    }
   ],
   "source": [
    "DataFrame(rows,columns=list(zip(*cursor.description))[0])\n"
   ]
  },
  {
   "cell_type": "code",
   "execution_count": 57,
   "metadata": {
    "collapsed": false
   },
   "outputs": [
    {
     "data": {
      "text/html": [
       "<div>\n",
       "<table border=\"1\" class=\"dataframe\">\n",
       "  <thead>\n",
       "    <tr style=\"text-align: right;\">\n",
       "      <th></th>\n",
       "      <th>a</th>\n",
       "      <th>b</th>\n",
       "      <th>c</th>\n",
       "      <th>d</th>\n",
       "    </tr>\n",
       "  </thead>\n",
       "  <tbody>\n",
       "    <tr>\n",
       "      <th>0</th>\n",
       "      <td>Beijing</td>\n",
       "      <td>Beijing</td>\n",
       "      <td>1.23</td>\n",
       "      <td>45</td>\n",
       "    </tr>\n",
       "    <tr>\n",
       "      <th>1</th>\n",
       "      <td>Xian</td>\n",
       "      <td>ShannXi</td>\n",
       "      <td>2.34</td>\n",
       "      <td>56</td>\n",
       "    </tr>\n",
       "  </tbody>\n",
       "</table>\n",
       "</div>"
      ],
      "text/plain": [
       "         a        b     c   d\n",
       "0  Beijing  Beijing  1.23  45\n",
       "1     Xian  ShannXi  2.34  56"
      ]
     },
     "execution_count": 57,
     "metadata": {},
     "output_type": "execute_result"
    }
   ],
   "source": [
    "pd.io.sql.read_sql('select * from test',con)"
   ]
  },
  {
   "cell_type": "code",
   "execution_count": 58,
   "metadata": {
    "collapsed": true
   },
   "outputs": [],
   "source": [
    "# 读取 mangoDB 中的数据\n",
    "# https://docs.mongodb.org/getting-started/python/insert/"
   ]
  },
  {
   "cell_type": "code",
   "execution_count": 62,
   "metadata": {
    "collapsed": false
   },
   "outputs": [],
   "source": [
    "from pymongo import MongoClient"
   ]
  },
  {
   "cell_type": "code",
   "execution_count": 66,
   "metadata": {
    "collapsed": false
   },
   "outputs": [],
   "source": [
    "client = MongoClient()\n",
    "tweets = client.tweets"
   ]
  },
  {
   "cell_type": "code",
   "execution_count": 94,
   "metadata": {
    "collapsed": false
   },
   "outputs": [
    {
     "name": "stdout",
     "output_type": "stream",
     "text": [
      "{'from_user': 'hello', 'id': 17, 'text': '29b7ed7e-0e9e-11e6-be93-80e6500105ee'}\n",
      "{'from_user': 'bobo', 'id': 13, 'text': '29b7ee94-0e9e-11e6-849f-80e6500105ee'}\n",
      "{'from_user': 'zook', 'id': 20, 'text': '29b7ef54-0e9e-11e6-ac66-80e6500105ee'}\n",
      "{'from_user': 'pick', 'id': 17, 'text': '29b7efd8-0e9e-11e6-966d-80e6500105ee'}\n",
      "{'from_user': 'hello', 'id': 17, 'text': '29b7f050-0e9e-11e6-9305-80e6500105ee'}\n",
      "{'from_user': 'bobo', 'id': 20, 'text': '29b7f0c6-0e9e-11e6-825c-80e6500105ee'}\n",
      "{'from_user': 'zook', 'id': 5, 'text': '29b7f140-0e9e-11e6-bd5f-80e6500105ee'}\n",
      "{'from_user': 'pick', 'id': 13, 'text': '29b7f1a2-0e9e-11e6-b8f8-80e6500105ee'}\n",
      "{'from_user': 'hello', 'id': 20, 'text': '29b7f212-0e9e-11e6-9d29-80e6500105ee'}\n",
      "{'from_user': 'bobo', 'id': 18, 'text': '29b7f27e-0e9e-11e6-afa2-80e6500105ee'}\n",
      "{'from_user': 'zook', 'id': 2, 'text': '29b7f2ec-0e9e-11e6-9bb0-80e6500105ee'}\n",
      "{'from_user': 'pick', 'id': 11, 'text': '29b7f35a-0e9e-11e6-a950-80e6500105ee'}\n",
      "{'from_user': 'hello', 'id': 1, 'text': '29b7f3be-0e9e-11e6-be69-80e6500105ee'}\n",
      "{'from_user': 'bobo', 'id': 2, 'text': '29b7f42c-0e9e-11e6-ba0c-80e6500105ee'}\n",
      "{'from_user': 'zook', 'id': 11, 'text': '29b7f490-0e9e-11e6-a514-80e6500105ee'}\n",
      "{'from_user': 'pick', 'id': 11, 'text': '29b7f4fe-0e9e-11e6-9e02-80e6500105ee'}\n",
      "{'from_user': 'hello', 'id': 12, 'text': '29b7f562-0e9e-11e6-89cc-80e6500105ee'}\n",
      "{'from_user': 'bobo', 'id': 15, 'text': '29b7f5d0-0e9e-11e6-89c0-80e6500105ee'}\n",
      "{'from_user': 'zook', 'id': 15, 'text': '29b7f63e-0e9e-11e6-a129-80e6500105ee'}\n",
      "{'from_user': 'pick', 'id': 17, 'text': '29b7f6ae-0e9e-11e6-b060-80e6500105ee'}\n"
     ]
    }
   ],
   "source": [
    "data = json.loads(requests.get('http://192.168.31.142:8000/get/search').text)\n",
    "for tweet in data['result']:\n",
    "    print(tweet)\n",
    "    re = tweets.restaurants.insert_one(tweet)\n",
    "#     print(re)\n"
   ]
  },
  {
   "cell_type": "code",
   "execution_count": 95,
   "metadata": {
    "collapsed": false
   },
   "outputs": [],
   "source": [
    "cursor = tweets.restaurants.find({'from_user':'bobo'})\n",
    "# for document in cursor:\n",
    "#     print(document)"
   ]
  },
  {
   "cell_type": "code",
   "execution_count": 92,
   "metadata": {
    "collapsed": false
   },
   "outputs": [],
   "source": [
    "# list(cursor)"
   ]
  },
  {
   "cell_type": "code",
   "execution_count": 96,
   "metadata": {
    "collapsed": false
   },
   "outputs": [
    {
     "data": {
      "text/html": [
       "<div>\n",
       "<table border=\"1\" class=\"dataframe\">\n",
       "  <thead>\n",
       "    <tr style=\"text-align: right;\">\n",
       "      <th></th>\n",
       "      <th>from_user</th>\n",
       "      <th>id</th>\n",
       "      <th>text</th>\n",
       "    </tr>\n",
       "  </thead>\n",
       "  <tbody>\n",
       "    <tr>\n",
       "      <th>0</th>\n",
       "      <td>bobo</td>\n",
       "      <td>1</td>\n",
       "      <td>1ec897d4-0e9d-11e6-b547-80e6500105ee</td>\n",
       "    </tr>\n",
       "    <tr>\n",
       "      <th>1</th>\n",
       "      <td>bobo</td>\n",
       "      <td>6</td>\n",
       "      <td>1ec899dc-0e9d-11e6-8cae-80e6500105ee</td>\n",
       "    </tr>\n",
       "    <tr>\n",
       "      <th>2</th>\n",
       "      <td>bobo</td>\n",
       "      <td>9</td>\n",
       "      <td>1ec89b94-0e9d-11e6-9497-80e6500105ee</td>\n",
       "    </tr>\n",
       "    <tr>\n",
       "      <th>3</th>\n",
       "      <td>bobo</td>\n",
       "      <td>4</td>\n",
       "      <td>1ec89d36-0e9d-11e6-9484-80e6500105ee</td>\n",
       "    </tr>\n",
       "    <tr>\n",
       "      <th>4</th>\n",
       "      <td>bobo</td>\n",
       "      <td>9</td>\n",
       "      <td>1ec89ee6-0e9d-11e6-a28f-80e6500105ee</td>\n",
       "    </tr>\n",
       "    <tr>\n",
       "      <th>5</th>\n",
       "      <td>bobo</td>\n",
       "      <td>9</td>\n",
       "      <td>7f2086fa-0e9d-11e6-aae3-80e6500105ee</td>\n",
       "    </tr>\n",
       "    <tr>\n",
       "      <th>6</th>\n",
       "      <td>bobo</td>\n",
       "      <td>13</td>\n",
       "      <td>7f2088e4-0e9d-11e6-bace-80e6500105ee</td>\n",
       "    </tr>\n",
       "    <tr>\n",
       "      <th>7</th>\n",
       "      <td>bobo</td>\n",
       "      <td>11</td>\n",
       "      <td>7f208aa6-0e9d-11e6-9317-80e6500105ee</td>\n",
       "    </tr>\n",
       "    <tr>\n",
       "      <th>8</th>\n",
       "      <td>bobo</td>\n",
       "      <td>20</td>\n",
       "      <td>7f208c4a-0e9d-11e6-93af-80e6500105ee</td>\n",
       "    </tr>\n",
       "    <tr>\n",
       "      <th>9</th>\n",
       "      <td>bobo</td>\n",
       "      <td>13</td>\n",
       "      <td>7f208e14-0e9d-11e6-a612-80e6500105ee</td>\n",
       "    </tr>\n",
       "    <tr>\n",
       "      <th>10</th>\n",
       "      <td>bobo</td>\n",
       "      <td>12</td>\n",
       "      <td>dc0751be-0e9d-11e6-9613-80e6500105ee</td>\n",
       "    </tr>\n",
       "    <tr>\n",
       "      <th>11</th>\n",
       "      <td>bobo</td>\n",
       "      <td>6</td>\n",
       "      <td>dc0753b4-0e9d-11e6-a84d-80e6500105ee</td>\n",
       "    </tr>\n",
       "    <tr>\n",
       "      <th>12</th>\n",
       "      <td>bobo</td>\n",
       "      <td>9</td>\n",
       "      <td>dc075568-0e9d-11e6-a337-80e6500105ee</td>\n",
       "    </tr>\n",
       "    <tr>\n",
       "      <th>13</th>\n",
       "      <td>bobo</td>\n",
       "      <td>12</td>\n",
       "      <td>dc07571a-0e9d-11e6-aa9b-80e6500105ee</td>\n",
       "    </tr>\n",
       "    <tr>\n",
       "      <th>14</th>\n",
       "      <td>bobo</td>\n",
       "      <td>7</td>\n",
       "      <td>dc0758f8-0e9d-11e6-87d3-80e6500105ee</td>\n",
       "    </tr>\n",
       "    <tr>\n",
       "      <th>15</th>\n",
       "      <td>bobo</td>\n",
       "      <td>13</td>\n",
       "      <td>29b7ee94-0e9e-11e6-849f-80e6500105ee</td>\n",
       "    </tr>\n",
       "    <tr>\n",
       "      <th>16</th>\n",
       "      <td>bobo</td>\n",
       "      <td>20</td>\n",
       "      <td>29b7f0c6-0e9e-11e6-825c-80e6500105ee</td>\n",
       "    </tr>\n",
       "    <tr>\n",
       "      <th>17</th>\n",
       "      <td>bobo</td>\n",
       "      <td>18</td>\n",
       "      <td>29b7f27e-0e9e-11e6-afa2-80e6500105ee</td>\n",
       "    </tr>\n",
       "    <tr>\n",
       "      <th>18</th>\n",
       "      <td>bobo</td>\n",
       "      <td>2</td>\n",
       "      <td>29b7f42c-0e9e-11e6-ba0c-80e6500105ee</td>\n",
       "    </tr>\n",
       "    <tr>\n",
       "      <th>19</th>\n",
       "      <td>bobo</td>\n",
       "      <td>15</td>\n",
       "      <td>29b7f5d0-0e9e-11e6-89c0-80e6500105ee</td>\n",
       "    </tr>\n",
       "  </tbody>\n",
       "</table>\n",
       "</div>"
      ],
      "text/plain": [
       "   from_user  id                                  text\n",
       "0       bobo   1  1ec897d4-0e9d-11e6-b547-80e6500105ee\n",
       "1       bobo   6  1ec899dc-0e9d-11e6-8cae-80e6500105ee\n",
       "2       bobo   9  1ec89b94-0e9d-11e6-9497-80e6500105ee\n",
       "3       bobo   4  1ec89d36-0e9d-11e6-9484-80e6500105ee\n",
       "4       bobo   9  1ec89ee6-0e9d-11e6-a28f-80e6500105ee\n",
       "5       bobo   9  7f2086fa-0e9d-11e6-aae3-80e6500105ee\n",
       "6       bobo  13  7f2088e4-0e9d-11e6-bace-80e6500105ee\n",
       "7       bobo  11  7f208aa6-0e9d-11e6-9317-80e6500105ee\n",
       "8       bobo  20  7f208c4a-0e9d-11e6-93af-80e6500105ee\n",
       "9       bobo  13  7f208e14-0e9d-11e6-a612-80e6500105ee\n",
       "10      bobo  12  dc0751be-0e9d-11e6-9613-80e6500105ee\n",
       "11      bobo   6  dc0753b4-0e9d-11e6-a84d-80e6500105ee\n",
       "12      bobo   9  dc075568-0e9d-11e6-a337-80e6500105ee\n",
       "13      bobo  12  dc07571a-0e9d-11e6-aa9b-80e6500105ee\n",
       "14      bobo   7  dc0758f8-0e9d-11e6-87d3-80e6500105ee\n",
       "15      bobo  13  29b7ee94-0e9e-11e6-849f-80e6500105ee\n",
       "16      bobo  20  29b7f0c6-0e9e-11e6-825c-80e6500105ee\n",
       "17      bobo  18  29b7f27e-0e9e-11e6-afa2-80e6500105ee\n",
       "18      bobo   2  29b7f42c-0e9e-11e6-ba0c-80e6500105ee\n",
       "19      bobo  15  29b7f5d0-0e9e-11e6-89c0-80e6500105ee"
      ]
     },
     "execution_count": 96,
     "metadata": {},
     "output_type": "execute_result"
    }
   ],
   "source": [
    "tweet_fields = ['from_user','id','text']\n",
    "result = DataFrame(list(cursor),columns=tweet_fields)\n",
    "result"
   ]
  },
  {
   "cell_type": "code",
   "execution_count": null,
   "metadata": {
    "collapsed": true
   },
   "outputs": [],
   "source": []
  }
 ],
 "metadata": {
  "kernelspec": {
   "display_name": "Python 3",
   "language": "python",
   "name": "python3"
  },
  "language_info": {
   "codemirror_mode": {
    "name": "ipython",
    "version": 3
   },
   "file_extension": ".py",
   "mimetype": "text/x-python",
   "name": "python",
   "nbconvert_exporter": "python",
   "pygments_lexer": "ipython3",
   "version": "3.5.0"
  }
 },
 "nbformat": 4,
 "nbformat_minor": 0
}
